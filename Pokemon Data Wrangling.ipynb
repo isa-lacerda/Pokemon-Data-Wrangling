{
 "cells": [
  {
   "cell_type": "markdown",
   "metadata": {
    "id": "GNIwe5N7s0e_"
   },
   "source": [
    "# Real-world Data Wrangling"
   ]
  },
  {
   "cell_type": "markdown",
   "metadata": {
    "id": "lDYDkH-Zs7Nn"
   },
   "source": [
    "## 1. Gather data"
   ]
  },
  {
   "cell_type": "markdown",
   "metadata": {
    "id": "LbN7z7rcuqpO"
   },
   "source": [
    "### **1.1.** Problem Statement"
   ]
  },
  {
   "cell_type": "markdown",
   "metadata": {
    "id": "gi6swhjSYqu2"
   },
   "source": [
    "Understanding the dynamics of Pokémon battles is crucial for trainers. In this project, I aim to analyze the strengths and weaknesses of Pokémon by examining their attributes and matchups in battles. I'll be wrangling two datasets: one obtained through web scraping, and another manually collected dataset. This way I will be able to answer questions such as:\n",
    "> Which Pokémon types have the highest Total Stats against all other types?\n",
    "> And which pokemons have the highest attack against all types overall?\n",
    "<br>"
   ]
  },
  {
   "cell_type": "markdown",
   "metadata": {
    "id": "7e6gS0wL1KTu"
   },
   "source": [
    "#### **Dataset 1**\n",
    "\n",
    "Type: CSV\n",
    "\n",
    "Method: The data was gathered via manually downloading through Kaggle's website. \n",
    "\n",
    "Link: https://www.kaggle.com/datasets/lunamcbride24/pokemon-type-matchup-data\n",
    "\n",
    " \n",
    "This dataset contains information about damage multipliers for different Pokémon types. I chose this dataset because it allows me to calculate attack  for various Pokémon types, which can be useful for joining and analyzing data with the other dataset. By understanding how different types of attacks affect Pokémon, I can gain insights into their strengths, weaknesses, and battle strategies.\n",
    "\n",
    "Dataset variables:\n",
    "<br>\n",
    "- `Name`: Name of the Pokémon<br>\n",
    "- `Number`: Pokémon's Pokedex Number<br>\n",
    "- `Normal`: Damage Multiplier for Normal Types (attacks against the Pokémon)<br>\n",
    "- `Fire`: Damage Multiplier for Fire Types<br>\n",
    "- `Water`: Damage Multiplier for Water Types<br>\n",
    "- `Electric`: Damage Multiplier for Electric Types<br>\n",
    "- `Grass`: Damage Multiplier for Grass Types<br>\n",
    "- `Ice`: Damage Multiplier for Ice Types<br>\n",
    "- `Fighting`: Damage Multiplier for Fighting Types<br>\n",
    "- `Poison`: Damage Multiplier for Poison Types<br>\n",
    "- `Ground`: Damage Multiplier for Ground Types<br>\n",
    "- `Flying`: Damage Multiplier for Flying Types<br>\n",
    "- `Psychic`: Damage Multiplier for Psychic Types<br>\n",
    "- `Bug`: Damage Multiplier for Bug Types<br>\n",
    "- `Rock`: Damage Multiplier for Rock Types<br>\n",
    "- `Ghost`: Damage Multiplier for Ghost Types<br>\n",
    "- `Dragon`: Damage Multiplier for Dragon Types<br>\n",
    "- `Dark`: Damage Multiplier for Dark Types<br>\n",
    "- `Steel`: Damage Multiplier for Steel Types<br>\n",
    "- `Fairy`: Damage Multiplier for Fairy Types<br>\n"
   ]
  },
  {
   "cell_type": "code",
   "execution_count": 1,
   "metadata": {
    "id": "Su8E0uLuYkHU",
    "scrolled": true
   },
   "outputs": [
    {
     "name": "stdout",
     "output_type": "stream",
     "text": [
      "Defaulting to user installation because normal site-packages is not writeable\n",
      "Requirement already satisfied: pandas in /opt/conda/lib/python3.10/site-packages (2.0.3)\n",
      "Requirement already satisfied: python-dateutil>=2.8.2 in /opt/conda/lib/python3.10/site-packages (from pandas) (2.9.0.post0)\n",
      "Requirement already satisfied: tzdata>=2022.1 in /opt/conda/lib/python3.10/site-packages (from pandas) (2024.1)\n",
      "Requirement already satisfied: pytz>=2020.1 in /opt/conda/lib/python3.10/site-packages (from pandas) (2022.7)\n",
      "Requirement already satisfied: numpy>=1.21.0 in /opt/conda/lib/python3.10/site-packages (from pandas) (1.24.3)\n",
      "Requirement already satisfied: six>=1.5 in /opt/conda/lib/python3.10/site-packages (from python-dateutil>=2.8.2->pandas) (1.16.0)\n",
      "Note: you may need to restart the kernel to use updated packages.\n"
     ]
    }
   ],
   "source": [
    "pip install pandas"
   ]
  },
  {
   "cell_type": "code",
   "execution_count": 2,
   "metadata": {},
   "outputs": [],
   "source": [
    "import pandas as pd"
   ]
  },
  {
   "cell_type": "code",
   "execution_count": 3,
   "metadata": {},
   "outputs": [
    {
     "data": {
      "text/html": [
       "<div>\n",
       "<style scoped>\n",
       "    .dataframe tbody tr th:only-of-type {\n",
       "        vertical-align: middle;\n",
       "    }\n",
       "\n",
       "    .dataframe tbody tr th {\n",
       "        vertical-align: top;\n",
       "    }\n",
       "\n",
       "    .dataframe thead th {\n",
       "        text-align: right;\n",
       "    }\n",
       "</style>\n",
       "<table border=\"1\" class=\"dataframe\">\n",
       "  <thead>\n",
       "    <tr style=\"text-align: right;\">\n",
       "      <th></th>\n",
       "      <th>Name</th>\n",
       "      <th>Number</th>\n",
       "      <th>Normal</th>\n",
       "      <th>Fire</th>\n",
       "      <th>Water</th>\n",
       "      <th>Electric</th>\n",
       "      <th>Grass</th>\n",
       "      <th>Ice</th>\n",
       "      <th>Fighting</th>\n",
       "      <th>Poison</th>\n",
       "      <th>Ground</th>\n",
       "      <th>Flying</th>\n",
       "      <th>Psychic</th>\n",
       "      <th>Bug</th>\n",
       "      <th>Rock</th>\n",
       "      <th>Ghost</th>\n",
       "      <th>Dragon</th>\n",
       "      <th>Dark</th>\n",
       "      <th>Steel</th>\n",
       "      <th>Fairy</th>\n",
       "    </tr>\n",
       "  </thead>\n",
       "  <tbody>\n",
       "    <tr>\n",
       "      <th>0</th>\n",
       "      <td>Bulbasaur</td>\n",
       "      <td>#001</td>\n",
       "      <td>*1</td>\n",
       "      <td>*2</td>\n",
       "      <td>*0.5</td>\n",
       "      <td>*0.5</td>\n",
       "      <td>*0.25</td>\n",
       "      <td>*2</td>\n",
       "      <td>*0.5</td>\n",
       "      <td>*1</td>\n",
       "      <td>*1</td>\n",
       "      <td>*2</td>\n",
       "      <td>*2</td>\n",
       "      <td>*1</td>\n",
       "      <td>*1</td>\n",
       "      <td>*1</td>\n",
       "      <td>*1</td>\n",
       "      <td>*1</td>\n",
       "      <td>*1</td>\n",
       "      <td>*0.5</td>\n",
       "    </tr>\n",
       "    <tr>\n",
       "      <th>1</th>\n",
       "      <td>Ivysaur</td>\n",
       "      <td>#002</td>\n",
       "      <td>*1</td>\n",
       "      <td>*2</td>\n",
       "      <td>*0.5</td>\n",
       "      <td>*0.5</td>\n",
       "      <td>*0.25</td>\n",
       "      <td>*2</td>\n",
       "      <td>*0.5</td>\n",
       "      <td>*1</td>\n",
       "      <td>*1</td>\n",
       "      <td>*2</td>\n",
       "      <td>*2</td>\n",
       "      <td>*1</td>\n",
       "      <td>*1</td>\n",
       "      <td>*1</td>\n",
       "      <td>*1</td>\n",
       "      <td>*1</td>\n",
       "      <td>*1</td>\n",
       "      <td>*0.5</td>\n",
       "    </tr>\n",
       "    <tr>\n",
       "      <th>2</th>\n",
       "      <td>Venusaur</td>\n",
       "      <td>#003</td>\n",
       "      <td>*1</td>\n",
       "      <td>*2</td>\n",
       "      <td>*0.5</td>\n",
       "      <td>*0.5</td>\n",
       "      <td>*0.25</td>\n",
       "      <td>*2</td>\n",
       "      <td>*0.5</td>\n",
       "      <td>*1</td>\n",
       "      <td>*1</td>\n",
       "      <td>*2</td>\n",
       "      <td>*2</td>\n",
       "      <td>*1</td>\n",
       "      <td>*1</td>\n",
       "      <td>*1</td>\n",
       "      <td>*1</td>\n",
       "      <td>*1</td>\n",
       "      <td>*1</td>\n",
       "      <td>*0.5</td>\n",
       "    </tr>\n",
       "  </tbody>\n",
       "</table>\n",
       "</div>"
      ],
      "text/plain": [
       "        Name Number Normal Fire Water Electric  Grass Ice Fighting Poison  \\\n",
       "0  Bulbasaur   #001     *1   *2  *0.5     *0.5  *0.25  *2     *0.5     *1   \n",
       "1    Ivysaur   #002     *1   *2  *0.5     *0.5  *0.25  *2     *0.5     *1   \n",
       "2   Venusaur   #003     *1   *2  *0.5     *0.5  *0.25  *2     *0.5     *1   \n",
       "\n",
       "  Ground Flying Psychic Bug Rock Ghost Dragon Dark Steel Fairy  \n",
       "0     *1     *2      *2  *1   *1    *1     *1   *1    *1  *0.5  \n",
       "1     *1     *2      *2  *1   *1    *1     *1   *1    *1  *0.5  \n",
       "2     *1     *2      *2  *1   *1    *1     *1   *1    *1  *0.5  "
      ]
     },
     "execution_count": 3,
     "metadata": {},
     "output_type": "execute_result"
    }
   ],
   "source": [
    "dirty_kaggle_matchups = pd.read_csv('PokeTypeMatchupData.csv')\n",
    "dirty_kaggle_matchups.head(3)"
   ]
  },
  {
   "cell_type": "markdown",
   "metadata": {
    "id": "hoUjq1tPzz7P"
   },
   "source": [
    "#### Dataset 2\n",
    "\n",
    "Type: CSV\n",
    "\n",
    "Method: The data was gathered using BeautifulSoup library to scrape a website. \n",
    "Link to the website: https://pokemondb.net/pokedex/all\n",
    "\n",
    "Dataset variables:\n",
    "<br>\n",
    "`ID`: Pokemon unique identification number.<br>\n",
    "`Name`: Pokemon name.<br>\n",
    "`Type 1`: Primary AND secondary type of Pokemon.<br>\n",
    "`Type 2`: Secondary type of Pokemon.<br>\n",
    "`Total`: Overall strength of the Pokemon.<br>\n",
    "`HP`: Health points, or how much damage it can take.<br>\n",
    "`Attack`: Strength of normal attacks.<br>\n",
    "`Defense`: Ability to resist normal attacks.<br>\n",
    "`SP Atk`: Strength of special attacks.<br>\n",
    "`SP Def`: Ability to resist special attacks<br>\n",
    "`Speed`: Determines the order of attacks in battles<br>"
   ]
  },
  {
   "cell_type": "code",
   "execution_count": 4,
   "metadata": {},
   "outputs": [],
   "source": [
    "import csv\n",
    "import requests\n",
    "from bs4 import BeautifulSoup"
   ]
  },
  {
   "cell_type": "code",
   "execution_count": 5,
   "metadata": {},
   "outputs": [],
   "source": [
    "# This is the site that contains a table with all 1025 Pokemons. Here I loaded it into the variable \"url\".\n",
    "url = 'https://pokemondb.net/pokedex/all'\n",
    "\n",
    "# HTTP request.\n",
    "response = requests.get(url)\n",
    "\n",
    "if response.status_code == 200:\n",
    "    soup = BeautifulSoup(response.content, 'html.parser')\n",
    "\n",
    "    # Opening the csv file that will be used to store all the gathered data.\n",
    "    with open('CompletePokemons.csv', 'w', newline='', encoding='utf-8') as csvfile:\n",
    "\n",
    "        writer = csv.writer(csvfile)\n",
    "\n",
    "        # Finding the table lines in the website (the table that stores the pokemon's information).\n",
    "        rows = soup.find_all('tr')\n",
    "\n",
    "        # Going through each line and extracting the data.\n",
    "        for row in rows:\n",
    "\n",
    "            cells = row.find_all('td')\n",
    "            if len(cells) > 0:\n",
    "                number = cells[0].text.strip()\n",
    "                name = cells[1].text.strip()\n",
    "                types = [a.text.strip() for a in cells[2].find_all('a')]\n",
    "                total = cells[3].text.strip()\n",
    "                hp = cells[4].text.strip()\n",
    "                attack = cells[5].text.strip()\n",
    "                defense = cells[6].text.strip()\n",
    "                sp_atk = cells[7].text.strip()\n",
    "                sp_def = cells[8].text.strip()\n",
    "                speed = cells[9].text.strip()\n",
    "\n",
    "                # Writing the data in the csv file.\n",
    "                writer.writerow([number, name, ', '.join(types), total, hp, attack, defense, sp_atk, sp_def, speed])\n",
    "else:\n",
    "    print(\"Error accessing website:\", response.status_code)\n"
   ]
  },
  {
   "cell_type": "code",
   "execution_count": 6,
   "metadata": {},
   "outputs": [
    {
     "data": {
      "text/html": [
       "<div>\n",
       "<style scoped>\n",
       "    .dataframe tbody tr th:only-of-type {\n",
       "        vertical-align: middle;\n",
       "    }\n",
       "\n",
       "    .dataframe tbody tr th {\n",
       "        vertical-align: top;\n",
       "    }\n",
       "\n",
       "    .dataframe thead th {\n",
       "        text-align: right;\n",
       "    }\n",
       "</style>\n",
       "<table border=\"1\" class=\"dataframe\">\n",
       "  <thead>\n",
       "    <tr style=\"text-align: right;\">\n",
       "      <th></th>\n",
       "      <th>0001</th>\n",
       "      <th>Bulbasaur</th>\n",
       "      <th>Grass, Poison</th>\n",
       "      <th>318</th>\n",
       "      <th>45</th>\n",
       "      <th>49</th>\n",
       "      <th>49.1</th>\n",
       "      <th>65</th>\n",
       "      <th>65.1</th>\n",
       "      <th>45.1</th>\n",
       "    </tr>\n",
       "  </thead>\n",
       "  <tbody>\n",
       "    <tr>\n",
       "      <th>0</th>\n",
       "      <td>2</td>\n",
       "      <td>Ivysaur</td>\n",
       "      <td>Grass, Poison</td>\n",
       "      <td>405</td>\n",
       "      <td>60</td>\n",
       "      <td>62</td>\n",
       "      <td>63</td>\n",
       "      <td>80</td>\n",
       "      <td>80</td>\n",
       "      <td>60</td>\n",
       "    </tr>\n",
       "    <tr>\n",
       "      <th>1</th>\n",
       "      <td>3</td>\n",
       "      <td>Venusaur</td>\n",
       "      <td>Grass, Poison</td>\n",
       "      <td>525</td>\n",
       "      <td>80</td>\n",
       "      <td>82</td>\n",
       "      <td>83</td>\n",
       "      <td>100</td>\n",
       "      <td>100</td>\n",
       "      <td>80</td>\n",
       "    </tr>\n",
       "    <tr>\n",
       "      <th>2</th>\n",
       "      <td>3</td>\n",
       "      <td>Venusaur Mega Venusaur</td>\n",
       "      <td>Grass, Poison</td>\n",
       "      <td>625</td>\n",
       "      <td>80</td>\n",
       "      <td>100</td>\n",
       "      <td>123</td>\n",
       "      <td>122</td>\n",
       "      <td>120</td>\n",
       "      <td>80</td>\n",
       "    </tr>\n",
       "  </tbody>\n",
       "</table>\n",
       "</div>"
      ],
      "text/plain": [
       "   0001               Bulbasaur  Grass, Poison  318  45   49  49.1   65  65.1  \\\n",
       "0     2                 Ivysaur  Grass, Poison  405  60   62    63   80    80   \n",
       "1     3                Venusaur  Grass, Poison  525  80   82    83  100   100   \n",
       "2     3  Venusaur Mega Venusaur  Grass, Poison  625  80  100   123  122   120   \n",
       "\n",
       "   45.1  \n",
       "0    60  \n",
       "1    80  \n",
       "2    80  "
      ]
     },
     "execution_count": 6,
     "metadata": {},
     "output_type": "execute_result"
    }
   ],
   "source": [
    "dirty_scraped_pokemons = pd.read_csv('CompletePokemons.csv')\n",
    "dirty_scraped_pokemons.head(3)"
   ]
  },
  {
   "cell_type": "code",
   "execution_count": 7,
   "metadata": {},
   "outputs": [
    {
     "name": "stdout",
     "output_type": "stream",
     "text": [
      "<class 'pandas.core.frame.DataFrame'>\n",
      "RangeIndex: 1214 entries, 0 to 1213\n",
      "Data columns (total 10 columns):\n",
      " #   Column         Non-Null Count  Dtype \n",
      "---  ------         --------------  ----- \n",
      " 0   0001           1214 non-null   int64 \n",
      " 1   Bulbasaur      1214 non-null   object\n",
      " 2   Grass, Poison  1214 non-null   object\n",
      " 3   318            1214 non-null   int64 \n",
      " 4   45             1214 non-null   int64 \n",
      " 5   49             1214 non-null   int64 \n",
      " 6   49.1           1214 non-null   int64 \n",
      " 7   65             1214 non-null   int64 \n",
      " 8   65.1           1214 non-null   int64 \n",
      " 9   45.1           1214 non-null   int64 \n",
      "dtypes: int64(8), object(2)\n",
      "memory usage: 95.0+ KB\n"
     ]
    }
   ],
   "source": [
    "dirty_scraped_pokemons.info()"
   ]
  },
  {
   "cell_type": "markdown",
   "metadata": {
    "id": "QwSWIVmotLgV"
   },
   "source": [
    "## 2. Assess data\n",
    "\n",
    "Assess the data according to data quality and tidiness metrics using the report below.\n",
    "\n",
    "List **two** data quality issues and **two** tidiness issues. Assess each data issue visually **and** programmatically, then briefly describe the issue you find.  **Make sure you include justifications for the methods you use for the assessment.**"
   ]
  },
  {
   "cell_type": "markdown",
   "metadata": {
    "id": "adaK2iPNzVu4"
   },
   "source": [
    "### Quality Issue 1: Formatting issues."
   ]
  },
  {
   "cell_type": "code",
   "execution_count": 8,
   "metadata": {
    "id": "SpW59kh-zl8d",
    "scrolled": false
   },
   "outputs": [
    {
     "name": "stdout",
     "output_type": "stream",
     "text": [
      "<class 'pandas.core.frame.DataFrame'>\n",
      "RangeIndex: 576 entries, 0 to 575\n",
      "Data columns (total 20 columns):\n",
      " #   Column    Non-Null Count  Dtype \n",
      "---  ------    --------------  ----- \n",
      " 0   Name      576 non-null    object\n",
      " 1   Number    576 non-null    object\n",
      " 2   Normal    576 non-null    object\n",
      " 3   Fire      576 non-null    object\n",
      " 4   Water     576 non-null    object\n",
      " 5   Electric  576 non-null    object\n",
      " 6   Grass     576 non-null    object\n",
      " 7   Ice       576 non-null    object\n",
      " 8   Fighting  576 non-null    object\n",
      " 9   Poison    576 non-null    object\n",
      " 10  Ground    576 non-null    object\n",
      " 11  Flying    576 non-null    object\n",
      " 12  Psychic   576 non-null    object\n",
      " 13  Bug       576 non-null    object\n",
      " 14  Rock      576 non-null    object\n",
      " 15  Ghost     576 non-null    object\n",
      " 16  Dragon    576 non-null    object\n",
      " 17  Dark      576 non-null    object\n",
      " 18  Steel     576 non-null    object\n",
      " 19  Fairy     576 non-null    object\n",
      "dtypes: object(20)\n",
      "memory usage: 90.1+ KB\n"
     ]
    }
   ],
   "source": [
    "# Programatically inspecting.\n",
    "dirty_kaggle_matchups.info()"
   ]
  },
  {
   "cell_type": "code",
   "execution_count": 9,
   "metadata": {},
   "outputs": [
    {
     "data": {
      "text/html": [
       "<div>\n",
       "<style scoped>\n",
       "    .dataframe tbody tr th:only-of-type {\n",
       "        vertical-align: middle;\n",
       "    }\n",
       "\n",
       "    .dataframe tbody tr th {\n",
       "        vertical-align: top;\n",
       "    }\n",
       "\n",
       "    .dataframe thead th {\n",
       "        text-align: right;\n",
       "    }\n",
       "</style>\n",
       "<table border=\"1\" class=\"dataframe\">\n",
       "  <thead>\n",
       "    <tr style=\"text-align: right;\">\n",
       "      <th></th>\n",
       "      <th>Name</th>\n",
       "      <th>Number</th>\n",
       "      <th>Normal</th>\n",
       "      <th>Fire</th>\n",
       "      <th>Water</th>\n",
       "      <th>Electric</th>\n",
       "      <th>Grass</th>\n",
       "      <th>Ice</th>\n",
       "      <th>Fighting</th>\n",
       "      <th>Poison</th>\n",
       "      <th>Ground</th>\n",
       "      <th>Flying</th>\n",
       "      <th>Psychic</th>\n",
       "      <th>Bug</th>\n",
       "      <th>Rock</th>\n",
       "      <th>Ghost</th>\n",
       "      <th>Dragon</th>\n",
       "      <th>Dark</th>\n",
       "      <th>Steel</th>\n",
       "      <th>Fairy</th>\n",
       "    </tr>\n",
       "  </thead>\n",
       "  <tbody>\n",
       "    <tr>\n",
       "      <th>455</th>\n",
       "      <td>Salazzle</td>\n",
       "      <td>#758</td>\n",
       "      <td>*1</td>\n",
       "      <td>*0.5</td>\n",
       "      <td>*2</td>\n",
       "      <td>*1</td>\n",
       "      <td>*0.25</td>\n",
       "      <td>*0.5</td>\n",
       "      <td>*0.5</td>\n",
       "      <td>*0.5</td>\n",
       "      <td>*4</td>\n",
       "      <td>*1</td>\n",
       "      <td>*2</td>\n",
       "      <td>*0.25</td>\n",
       "      <td>*2</td>\n",
       "      <td>*1</td>\n",
       "      <td>*1</td>\n",
       "      <td>*1</td>\n",
       "      <td>*0.5</td>\n",
       "      <td>*0.25</td>\n",
       "    </tr>\n",
       "    <tr>\n",
       "      <th>556</th>\n",
       "      <td>Morpeko</td>\n",
       "      <td>#877</td>\n",
       "      <td>*1</td>\n",
       "      <td>*1</td>\n",
       "      <td>*1</td>\n",
       "      <td>*0.5</td>\n",
       "      <td>*1</td>\n",
       "      <td>*1</td>\n",
       "      <td>*2</td>\n",
       "      <td>*1</td>\n",
       "      <td>*2</td>\n",
       "      <td>*0.5</td>\n",
       "      <td>*0</td>\n",
       "      <td>*2</td>\n",
       "      <td>*1</td>\n",
       "      <td>*0.5</td>\n",
       "      <td>*1</td>\n",
       "      <td>*0.5</td>\n",
       "      <td>*0.5</td>\n",
       "      <td>*2</td>\n",
       "    </tr>\n",
       "  </tbody>\n",
       "</table>\n",
       "</div>"
      ],
      "text/plain": [
       "         Name Number Normal  Fire Water Electric  Grass   Ice Fighting Poison  \\\n",
       "455  Salazzle   #758     *1  *0.5    *2       *1  *0.25  *0.5     *0.5   *0.5   \n",
       "556   Morpeko   #877     *1    *1    *1     *0.5     *1    *1       *2     *1   \n",
       "\n",
       "    Ground Flying Psychic    Bug Rock Ghost Dragon  Dark Steel  Fairy  \n",
       "455     *4     *1      *2  *0.25   *2    *1     *1    *1  *0.5  *0.25  \n",
       "556     *2   *0.5      *0     *2   *1  *0.5     *1  *0.5  *0.5     *2  "
      ]
     },
     "execution_count": 9,
     "metadata": {},
     "output_type": "execute_result"
    }
   ],
   "source": [
    "# Visually inspecting.\n",
    "dirty_kaggle_matchups.sample(2, random_state=8)"
   ]
  },
  {
   "cell_type": "markdown",
   "metadata": {},
   "source": [
    "Data Validity\n",
    "<br>\n",
    "The matchups dataset has formatting issues. The Number column, which is an important ID,  is stored as a string and contains # symbols. The * symbols are not needed since we can perform calculations directly on the numeric values without them."
   ]
  },
  {
   "cell_type": "markdown",
   "metadata": {
    "id": "8Be77N4I1AmE"
   },
   "source": [
    "### Quality Issue 2: Types."
   ]
  },
  {
   "cell_type": "code",
   "execution_count": 10,
   "metadata": {
    "id": "iMhHyiyLM2I3"
   },
   "outputs": [
    {
     "data": {
      "text/html": [
       "<div>\n",
       "<style scoped>\n",
       "    .dataframe tbody tr th:only-of-type {\n",
       "        vertical-align: middle;\n",
       "    }\n",
       "\n",
       "    .dataframe tbody tr th {\n",
       "        vertical-align: top;\n",
       "    }\n",
       "\n",
       "    .dataframe thead th {\n",
       "        text-align: right;\n",
       "    }\n",
       "</style>\n",
       "<table border=\"1\" class=\"dataframe\">\n",
       "  <thead>\n",
       "    <tr style=\"text-align: right;\">\n",
       "      <th></th>\n",
       "      <th>Name</th>\n",
       "      <th>Number</th>\n",
       "      <th>Normal</th>\n",
       "      <th>Fire</th>\n",
       "      <th>Water</th>\n",
       "      <th>Electric</th>\n",
       "      <th>Grass</th>\n",
       "      <th>Ice</th>\n",
       "      <th>Fighting</th>\n",
       "      <th>Poison</th>\n",
       "      <th>Ground</th>\n",
       "      <th>Flying</th>\n",
       "      <th>Psychic</th>\n",
       "      <th>Bug</th>\n",
       "      <th>Rock</th>\n",
       "      <th>Ghost</th>\n",
       "      <th>Dragon</th>\n",
       "      <th>Dark</th>\n",
       "      <th>Steel</th>\n",
       "      <th>Fairy</th>\n",
       "    </tr>\n",
       "  </thead>\n",
       "  <tbody>\n",
       "    <tr>\n",
       "      <th>12</th>\n",
       "      <td>Pikachu</td>\n",
       "      <td>#025</td>\n",
       "      <td>*1</td>\n",
       "      <td>*1</td>\n",
       "      <td>*1</td>\n",
       "      <td>*0.5</td>\n",
       "      <td>*1</td>\n",
       "      <td>*1</td>\n",
       "      <td>*1</td>\n",
       "      <td>*1</td>\n",
       "      <td>*2</td>\n",
       "      <td>*0.5</td>\n",
       "      <td>*1</td>\n",
       "      <td>*1</td>\n",
       "      <td>*1</td>\n",
       "      <td>*1</td>\n",
       "      <td>*1</td>\n",
       "      <td>*1</td>\n",
       "      <td>*0.5</td>\n",
       "      <td>*1</td>\n",
       "    </tr>\n",
       "    <tr>\n",
       "      <th>258</th>\n",
       "      <td>Dusknoir</td>\n",
       "      <td>#477</td>\n",
       "      <td>*0</td>\n",
       "      <td>*1</td>\n",
       "      <td>*1</td>\n",
       "      <td>*1</td>\n",
       "      <td>*1</td>\n",
       "      <td>*1</td>\n",
       "      <td>*0</td>\n",
       "      <td>*0.5</td>\n",
       "      <td>*1</td>\n",
       "      <td>*1</td>\n",
       "      <td>*1</td>\n",
       "      <td>*0.5</td>\n",
       "      <td>*1</td>\n",
       "      <td>*2</td>\n",
       "      <td>*1</td>\n",
       "      <td>*2</td>\n",
       "      <td>*1</td>\n",
       "      <td>*1</td>\n",
       "    </tr>\n",
       "  </tbody>\n",
       "</table>\n",
       "</div>"
      ],
      "text/plain": [
       "         Name Number Normal Fire Water Electric Grass Ice Fighting Poison  \\\n",
       "12    Pikachu   #025     *1   *1    *1     *0.5    *1  *1       *1     *1   \n",
       "258  Dusknoir   #477     *0   *1    *1       *1    *1  *1       *0   *0.5   \n",
       "\n",
       "    Ground Flying Psychic   Bug Rock Ghost Dragon Dark Steel Fairy  \n",
       "12      *2   *0.5      *1    *1   *1    *1     *1   *1  *0.5    *1  \n",
       "258     *1     *1      *1  *0.5   *1    *2     *1   *2    *1    *1  "
      ]
     },
     "execution_count": 10,
     "metadata": {},
     "output_type": "execute_result"
    }
   ],
   "source": [
    "dirty_kaggle_matchups.sample(2)"
   ]
  },
  {
   "cell_type": "code",
   "execution_count": 11,
   "metadata": {},
   "outputs": [
    {
     "data": {
      "text/html": [
       "<div>\n",
       "<style scoped>\n",
       "    .dataframe tbody tr th:only-of-type {\n",
       "        vertical-align: middle;\n",
       "    }\n",
       "\n",
       "    .dataframe tbody tr th {\n",
       "        vertical-align: top;\n",
       "    }\n",
       "\n",
       "    .dataframe thead th {\n",
       "        text-align: right;\n",
       "    }\n",
       "</style>\n",
       "<table border=\"1\" class=\"dataframe\">\n",
       "  <thead>\n",
       "    <tr style=\"text-align: right;\">\n",
       "      <th></th>\n",
       "      <th>0001</th>\n",
       "      <th>Bulbasaur</th>\n",
       "      <th>Grass, Poison</th>\n",
       "      <th>318</th>\n",
       "      <th>45</th>\n",
       "      <th>49</th>\n",
       "      <th>49.1</th>\n",
       "      <th>65</th>\n",
       "      <th>65.1</th>\n",
       "      <th>45.1</th>\n",
       "    </tr>\n",
       "  </thead>\n",
       "  <tbody>\n",
       "    <tr>\n",
       "      <th>671</th>\n",
       "      <td>554</td>\n",
       "      <td>Darumaka Galarian Darumaka</td>\n",
       "      <td>Ice</td>\n",
       "      <td>315</td>\n",
       "      <td>70</td>\n",
       "      <td>90</td>\n",
       "      <td>45</td>\n",
       "      <td>15</td>\n",
       "      <td>45</td>\n",
       "      <td>50</td>\n",
       "    </tr>\n",
       "    <tr>\n",
       "      <th>1147</th>\n",
       "      <td>968</td>\n",
       "      <td>Orthworm</td>\n",
       "      <td>Steel</td>\n",
       "      <td>480</td>\n",
       "      <td>70</td>\n",
       "      <td>85</td>\n",
       "      <td>145</td>\n",
       "      <td>60</td>\n",
       "      <td>55</td>\n",
       "      <td>65</td>\n",
       "    </tr>\n",
       "  </tbody>\n",
       "</table>\n",
       "</div>"
      ],
      "text/plain": [
       "      0001                   Bulbasaur Grass, Poison  318  45  49  49.1  65  \\\n",
       "671    554  Darumaka Galarian Darumaka           Ice  315  70  90    45  15   \n",
       "1147   968                    Orthworm         Steel  480  70  85   145  60   \n",
       "\n",
       "      65.1  45.1  \n",
       "671     45    50  \n",
       "1147    55    65  "
      ]
     },
     "execution_count": 11,
     "metadata": {},
     "output_type": "execute_result"
    }
   ],
   "source": [
    "dirty_scraped_pokemons.sample(2)"
   ]
  },
  {
   "cell_type": "code",
   "execution_count": 12,
   "metadata": {},
   "outputs": [
    {
     "data": {
      "text/plain": [
       "Name        object\n",
       "Number      object\n",
       "Normal      object\n",
       "Fire        object\n",
       "Water       object\n",
       "Electric    object\n",
       "Grass       object\n",
       "Ice         object\n",
       "Fighting    object\n",
       "Poison      object\n",
       "Ground      object\n",
       "Flying      object\n",
       "Psychic     object\n",
       "Bug         object\n",
       "Rock        object\n",
       "Ghost       object\n",
       "Dragon      object\n",
       "Dark        object\n",
       "Steel       object\n",
       "Fairy       object\n",
       "dtype: object"
      ]
     },
     "execution_count": 12,
     "metadata": {},
     "output_type": "execute_result"
    }
   ],
   "source": [
    "dirty_kaggle_matchups.dtypes"
   ]
  },
  {
   "cell_type": "code",
   "execution_count": 13,
   "metadata": {},
   "outputs": [
    {
     "data": {
      "text/plain": [
       "0001              int64\n",
       "Bulbasaur        object\n",
       "Grass, Poison    object\n",
       "318               int64\n",
       "45                int64\n",
       "49                int64\n",
       "49.1              int64\n",
       "65                int64\n",
       "65.1              int64\n",
       "45.1              int64\n",
       "dtype: object"
      ]
     },
     "execution_count": 13,
     "metadata": {},
     "output_type": "execute_result"
    }
   ],
   "source": [
    "dirty_scraped_pokemons.dtypes"
   ]
  },
  {
   "cell_type": "markdown",
   "metadata": {},
   "source": [
    "In the scraped dataframe all columns are currently stored as objects, which is not ideal. To ensure accurate computations and proper data handling, I will convert the data types of relevant columns to their appropriate types, such as integers or floats."
   ]
  },
  {
   "cell_type": "markdown",
   "metadata": {
    "id": "lXhGiYyiwwKN"
   },
   "source": [
    "### Tidiness Issue 1: Two variables in a single cell."
   ]
  },
  {
   "cell_type": "code",
   "execution_count": 14,
   "metadata": {
    "id": "fleC5rORI0Xl"
   },
   "outputs": [
    {
     "data": {
      "text/html": [
       "<div>\n",
       "<style scoped>\n",
       "    .dataframe tbody tr th:only-of-type {\n",
       "        vertical-align: middle;\n",
       "    }\n",
       "\n",
       "    .dataframe tbody tr th {\n",
       "        vertical-align: top;\n",
       "    }\n",
       "\n",
       "    .dataframe thead th {\n",
       "        text-align: right;\n",
       "    }\n",
       "</style>\n",
       "<table border=\"1\" class=\"dataframe\">\n",
       "  <thead>\n",
       "    <tr style=\"text-align: right;\">\n",
       "      <th></th>\n",
       "      <th>0001</th>\n",
       "      <th>Bulbasaur</th>\n",
       "      <th>Grass, Poison</th>\n",
       "      <th>318</th>\n",
       "      <th>45</th>\n",
       "      <th>49</th>\n",
       "      <th>49.1</th>\n",
       "      <th>65</th>\n",
       "      <th>65.1</th>\n",
       "      <th>45.1</th>\n",
       "    </tr>\n",
       "  </thead>\n",
       "  <tbody>\n",
       "    <tr>\n",
       "      <th>445</th>\n",
       "      <td>362</td>\n",
       "      <td>Glalie Mega Glalie</td>\n",
       "      <td>Ice</td>\n",
       "      <td>580</td>\n",
       "      <td>80</td>\n",
       "      <td>120</td>\n",
       "      <td>80</td>\n",
       "      <td>120</td>\n",
       "      <td>80</td>\n",
       "      <td>100</td>\n",
       "    </tr>\n",
       "    <tr>\n",
       "      <th>289</th>\n",
       "      <td>228</td>\n",
       "      <td>Houndour</td>\n",
       "      <td>Dark, Fire</td>\n",
       "      <td>330</td>\n",
       "      <td>45</td>\n",
       "      <td>60</td>\n",
       "      <td>30</td>\n",
       "      <td>80</td>\n",
       "      <td>50</td>\n",
       "      <td>65</td>\n",
       "    </tr>\n",
       "  </tbody>\n",
       "</table>\n",
       "</div>"
      ],
      "text/plain": [
       "     0001           Bulbasaur Grass, Poison  318  45   49  49.1   65  65.1  \\\n",
       "445   362  Glalie Mega Glalie           Ice  580  80  120    80  120    80   \n",
       "289   228            Houndour    Dark, Fire  330  45   60    30   80    50   \n",
       "\n",
       "     45.1  \n",
       "445   100  \n",
       "289    65  "
      ]
     },
     "execution_count": 14,
     "metadata": {},
     "output_type": "execute_result"
    }
   ],
   "source": [
    "# By getting a random sample we can see that the Type column sometimes has two types in it separated by commas.\n",
    "dirty_scraped_pokemons.sample(2, random_state=7)"
   ]
  },
  {
   "cell_type": "code",
   "execution_count": 15,
   "metadata": {},
   "outputs": [
    {
     "data": {
      "text/plain": [
       "Grass, Poison\n",
       "Normal             82\n",
       "Water              81\n",
       "Psychic            47\n",
       "Grass              47\n",
       "Fire               37\n",
       "                   ..\n",
       "Fire, Dark          1\n",
       "Fighting, Ice       1\n",
       "Normal, Dragon      1\n",
       "Psychic, Dragon     1\n",
       "Poison, Ghost       1\n",
       "Name: count, Length: 221, dtype: int64"
      ]
     },
     "execution_count": 15,
     "metadata": {},
     "output_type": "execute_result"
    }
   ],
   "source": [
    "dirty_scraped_pokemons['Grass, Poison'].value_counts()"
   ]
  },
  {
   "cell_type": "code",
   "execution_count": 16,
   "metadata": {},
   "outputs": [
    {
     "name": "stdout",
     "output_type": "stream",
     "text": [
      "Total occurrences of two types in one column: 668\n"
     ]
    }
   ],
   "source": [
    "# By counting how many times commas appear in the Type column we can see how many samples contain more than 1 type.\n",
    "# This will be corrected in the cleaning phase.\n",
    "dual_type_count = dirty_scraped_pokemons['Grass, Poison'].str.count(',') + 1\n",
    "total = (dual_type_count > 1).sum()\n",
    "print(\"Total occurrences of two types in one column:\", total)"
   ]
  },
  {
   "cell_type": "markdown",
   "metadata": {},
   "source": [
    "The data obtained through web scraping has a tidiness issue. Each Pokémon can have one or two types, but in this dataframe, both types (if they exist) are stored in the same column. For better organization, each type should have its own column. This ensures that each variable is in its own column, making the data easier to work with."
   ]
  },
  {
   "cell_type": "markdown",
   "metadata": {
    "id": "4ffMoRGSwzYj"
   },
   "source": [
    "### Tidiness Issue 2: Missing header row."
   ]
  },
  {
   "cell_type": "code",
   "execution_count": 17,
   "metadata": {
    "id": "XUpeoqokw5Qt"
   },
   "outputs": [
    {
     "data": {
      "text/html": [
       "<div>\n",
       "<style scoped>\n",
       "    .dataframe tbody tr th:only-of-type {\n",
       "        vertical-align: middle;\n",
       "    }\n",
       "\n",
       "    .dataframe tbody tr th {\n",
       "        vertical-align: top;\n",
       "    }\n",
       "\n",
       "    .dataframe thead th {\n",
       "        text-align: right;\n",
       "    }\n",
       "</style>\n",
       "<table border=\"1\" class=\"dataframe\">\n",
       "  <thead>\n",
       "    <tr style=\"text-align: right;\">\n",
       "      <th></th>\n",
       "      <th>0001</th>\n",
       "      <th>Bulbasaur</th>\n",
       "      <th>Grass, Poison</th>\n",
       "      <th>318</th>\n",
       "      <th>45</th>\n",
       "      <th>49</th>\n",
       "      <th>49.1</th>\n",
       "      <th>65</th>\n",
       "      <th>65.1</th>\n",
       "      <th>45.1</th>\n",
       "    </tr>\n",
       "  </thead>\n",
       "  <tbody>\n",
       "    <tr>\n",
       "      <th>0</th>\n",
       "      <td>2</td>\n",
       "      <td>Ivysaur</td>\n",
       "      <td>Grass, Poison</td>\n",
       "      <td>405</td>\n",
       "      <td>60</td>\n",
       "      <td>62</td>\n",
       "      <td>63</td>\n",
       "      <td>80</td>\n",
       "      <td>80</td>\n",
       "      <td>60</td>\n",
       "    </tr>\n",
       "    <tr>\n",
       "      <th>1</th>\n",
       "      <td>3</td>\n",
       "      <td>Venusaur</td>\n",
       "      <td>Grass, Poison</td>\n",
       "      <td>525</td>\n",
       "      <td>80</td>\n",
       "      <td>82</td>\n",
       "      <td>83</td>\n",
       "      <td>100</td>\n",
       "      <td>100</td>\n",
       "      <td>80</td>\n",
       "    </tr>\n",
       "  </tbody>\n",
       "</table>\n",
       "</div>"
      ],
      "text/plain": [
       "   0001 Bulbasaur  Grass, Poison  318  45  49  49.1   65  65.1  45.1\n",
       "0     2   Ivysaur  Grass, Poison  405  60  62    63   80    80    60\n",
       "1     3  Venusaur  Grass, Poison  525  80  82    83  100   100    80"
      ]
     },
     "execution_count": 17,
     "metadata": {},
     "output_type": "execute_result"
    }
   ],
   "source": [
    "dirty_scraped_pokemons.head(2)"
   ]
  },
  {
   "cell_type": "code",
   "execution_count": 18,
   "metadata": {
    "id": "c8JK4DoXxtFA"
   },
   "outputs": [
    {
     "name": "stdout",
     "output_type": "stream",
     "text": [
      "<class 'pandas.core.frame.DataFrame'>\n",
      "RangeIndex: 1214 entries, 0 to 1213\n",
      "Data columns (total 10 columns):\n",
      " #   Column         Non-Null Count  Dtype \n",
      "---  ------         --------------  ----- \n",
      " 0   0001           1214 non-null   int64 \n",
      " 1   Bulbasaur      1214 non-null   object\n",
      " 2   Grass, Poison  1214 non-null   object\n",
      " 3   318            1214 non-null   int64 \n",
      " 4   45             1214 non-null   int64 \n",
      " 5   49             1214 non-null   int64 \n",
      " 6   49.1           1214 non-null   int64 \n",
      " 7   65             1214 non-null   int64 \n",
      " 8   65.1           1214 non-null   int64 \n",
      " 9   45.1           1214 non-null   int64 \n",
      "dtypes: int64(8), object(2)\n",
      "memory usage: 95.0+ KB\n"
     ]
    }
   ],
   "source": [
    "# Here it's clear that the first row of the data is being interpreted as the header.\n",
    "dirty_scraped_pokemons.info()"
   ]
  },
  {
   "cell_type": "markdown",
   "metadata": {},
   "source": [
    "The DataFrame obtained through web scraping lacks the header row, violating the principle that column headers should be values, not variable names."
   ]
  },
  {
   "cell_type": "markdown",
   "metadata": {
    "id": "D6gmLnBttpCh"
   },
   "source": [
    "## 3. Clean data\n",
    "Clean the data to solve the 4 issues corresponding to data quality and tidiness found in the assessing step. **Make sure you include justifications for your cleaning decisions.**\n",
    "\n",
    "After the cleaning for each issue, please use **either** the visually or programatical method to validate the cleaning was succesful.\n",
    "\n",
    "At this stage, you are also expected to remove variables that are unnecessary for your analysis and combine your datasets. Depending on your datasets, you may choose to perform variable combination and elimination before or after the cleaning stage. Your dataset must have **at least** 4 variables after combining the data."
   ]
  },
  {
   "cell_type": "markdown",
   "metadata": {
    "id": "FmFhN52Yyn3l"
   },
   "source": [
    "### **Quality Issue 1: Formatting issues.**"
   ]
  },
  {
   "cell_type": "code",
   "execution_count": 19,
   "metadata": {},
   "outputs": [],
   "source": [
    "# Copies of the datasets to ensure the raw dataframes \n",
    "# are not impacted\n",
    "dirty_scraped_pokemons_copy = dirty_scraped_pokemons.copy()\n",
    "dirty_kaggle_matchups_copy = dirty_kaggle_matchups.copy()"
   ]
  },
  {
   "cell_type": "code",
   "execution_count": 20,
   "metadata": {},
   "outputs": [
    {
     "name": "stdout",
     "output_type": "stream",
     "text": [
      "<class 'pandas.core.frame.DataFrame'>\n",
      "RangeIndex: 576 entries, 0 to 575\n",
      "Data columns (total 20 columns):\n",
      " #   Column    Non-Null Count  Dtype \n",
      "---  ------    --------------  ----- \n",
      " 0   Name      576 non-null    object\n",
      " 1   Number    576 non-null    object\n",
      " 2   Normal    576 non-null    object\n",
      " 3   Fire      576 non-null    object\n",
      " 4   Water     576 non-null    object\n",
      " 5   Electric  576 non-null    object\n",
      " 6   Grass     576 non-null    object\n",
      " 7   Ice       576 non-null    object\n",
      " 8   Fighting  576 non-null    object\n",
      " 9   Poison    576 non-null    object\n",
      " 10  Ground    576 non-null    object\n",
      " 11  Flying    576 non-null    object\n",
      " 12  Psychic   576 non-null    object\n",
      " 13  Bug       576 non-null    object\n",
      " 14  Rock      576 non-null    object\n",
      " 15  Ghost     576 non-null    object\n",
      " 16  Dragon    576 non-null    object\n",
      " 17  Dark      576 non-null    object\n",
      " 18  Steel     576 non-null    object\n",
      " 19  Fairy     576 non-null    object\n",
      "dtypes: object(20)\n",
      "memory usage: 90.1+ KB\n"
     ]
    }
   ],
   "source": [
    "dirty_kaggle_matchups_copy.info()"
   ]
  },
  {
   "cell_type": "code",
   "execution_count": 21,
   "metadata": {
    "id": "9UejDWrNMW4a"
   },
   "outputs": [],
   "source": [
    " # Removing the # symbol.\n",
    "dirty_kaggle_matchups['Number'] = dirty_kaggle_matchups['Number'].str.replace('#', '')"
   ]
  },
  {
   "cell_type": "code",
   "execution_count": 22,
   "metadata": {},
   "outputs": [],
   "source": [
    " # Removing the all of the asterisks.\n",
    "for coluna in dirty_kaggle_matchups.columns[1:]:\n",
    "    dirty_kaggle_matchups[coluna] = dirty_kaggle_matchups[coluna].str.replace('*', '')"
   ]
  },
  {
   "cell_type": "code",
   "execution_count": 23,
   "metadata": {
    "id": "oUBee-LPytkv"
   },
   "outputs": [
    {
     "data": {
      "text/html": [
       "<div>\n",
       "<style scoped>\n",
       "    .dataframe tbody tr th:only-of-type {\n",
       "        vertical-align: middle;\n",
       "    }\n",
       "\n",
       "    .dataframe tbody tr th {\n",
       "        vertical-align: top;\n",
       "    }\n",
       "\n",
       "    .dataframe thead th {\n",
       "        text-align: right;\n",
       "    }\n",
       "</style>\n",
       "<table border=\"1\" class=\"dataframe\">\n",
       "  <thead>\n",
       "    <tr style=\"text-align: right;\">\n",
       "      <th></th>\n",
       "      <th>Name</th>\n",
       "      <th>Number</th>\n",
       "      <th>Normal</th>\n",
       "      <th>Fire</th>\n",
       "      <th>Water</th>\n",
       "      <th>Electric</th>\n",
       "      <th>Grass</th>\n",
       "      <th>Ice</th>\n",
       "      <th>Fighting</th>\n",
       "      <th>Poison</th>\n",
       "      <th>Ground</th>\n",
       "      <th>Flying</th>\n",
       "      <th>Psychic</th>\n",
       "      <th>Bug</th>\n",
       "      <th>Rock</th>\n",
       "      <th>Ghost</th>\n",
       "      <th>Dragon</th>\n",
       "      <th>Dark</th>\n",
       "      <th>Steel</th>\n",
       "      <th>Fairy</th>\n",
       "    </tr>\n",
       "  </thead>\n",
       "  <tbody>\n",
       "    <tr>\n",
       "      <th>54</th>\n",
       "      <td>Ponyta</td>\n",
       "      <td>077</td>\n",
       "      <td>1</td>\n",
       "      <td>0.5</td>\n",
       "      <td>2</td>\n",
       "      <td>1</td>\n",
       "      <td>0.5</td>\n",
       "      <td>0.5</td>\n",
       "      <td>1</td>\n",
       "      <td>1</td>\n",
       "      <td>2</td>\n",
       "      <td>1</td>\n",
       "      <td>1</td>\n",
       "      <td>0.5</td>\n",
       "      <td>2</td>\n",
       "      <td>1</td>\n",
       "      <td>1</td>\n",
       "      <td>1</td>\n",
       "      <td>0.5</td>\n",
       "      <td>0.5</td>\n",
       "    </tr>\n",
       "  </tbody>\n",
       "</table>\n",
       "</div>"
      ],
      "text/plain": [
       "      Name Number Normal Fire Water Electric Grass  Ice Fighting Poison  \\\n",
       "54  Ponyta    077      1  0.5     2        1   0.5  0.5        1      1   \n",
       "\n",
       "   Ground Flying Psychic  Bug Rock Ghost Dragon Dark Steel Fairy  \n",
       "54      2      1       1  0.5    2     1      1    1   0.5   0.5  "
      ]
     },
     "execution_count": 23,
     "metadata": {},
     "output_type": "execute_result"
    }
   ],
   "source": [
    "# Seeing the changes.\n",
    "dirty_kaggle_matchups.sample()"
   ]
  },
  {
   "cell_type": "markdown",
   "metadata": {},
   "source": [
    "After correcting the incorrect characters we now will be able to convert types more easily, and perform operations as well."
   ]
  },
  {
   "cell_type": "markdown",
   "metadata": {
    "id": "n_DAUbJrymBL"
   },
   "source": [
    "### **Quality Issue 2: Types.**"
   ]
  },
  {
   "cell_type": "code",
   "execution_count": 24,
   "metadata": {
    "id": "5Yfb-Yu5MTuE"
   },
   "outputs": [],
   "source": [
    "for coluna in dirty_kaggle_matchups.columns[1:]:\n",
    "    # Convert object columns to float. I had to use the word \"coluna\" because \"column\" caused errors.\n",
    "    dirty_kaggle_matchups[coluna] = dirty_kaggle_matchups[coluna].astype(float)"
   ]
  },
  {
   "cell_type": "code",
   "execution_count": 25,
   "metadata": {},
   "outputs": [],
   "source": [
    "dirty_kaggle_matchups['Number'] = dirty_kaggle_matchups['Number'].astype(int)"
   ]
  },
  {
   "cell_type": "code",
   "execution_count": 26,
   "metadata": {
    "id": "ionB2sRaMUmY",
    "scrolled": false
   },
   "outputs": [
    {
     "name": "stdout",
     "output_type": "stream",
     "text": [
      "<class 'pandas.core.frame.DataFrame'>\n",
      "RangeIndex: 576 entries, 0 to 575\n",
      "Data columns (total 20 columns):\n",
      " #   Column    Non-Null Count  Dtype  \n",
      "---  ------    --------------  -----  \n",
      " 0   Name      576 non-null    object \n",
      " 1   Number    576 non-null    int64  \n",
      " 2   Normal    576 non-null    float64\n",
      " 3   Fire      576 non-null    float64\n",
      " 4   Water     576 non-null    float64\n",
      " 5   Electric  576 non-null    float64\n",
      " 6   Grass     576 non-null    float64\n",
      " 7   Ice       576 non-null    float64\n",
      " 8   Fighting  576 non-null    float64\n",
      " 9   Poison    576 non-null    float64\n",
      " 10  Ground    576 non-null    float64\n",
      " 11  Flying    576 non-null    float64\n",
      " 12  Psychic   576 non-null    float64\n",
      " 13  Bug       576 non-null    float64\n",
      " 14  Rock      576 non-null    float64\n",
      " 15  Ghost     576 non-null    float64\n",
      " 16  Dragon    576 non-null    float64\n",
      " 17  Dark      576 non-null    float64\n",
      " 18  Steel     576 non-null    float64\n",
      " 19  Fairy     576 non-null    float64\n",
      "dtypes: float64(18), int64(1), object(1)\n",
      "memory usage: 90.1+ KB\n"
     ]
    }
   ],
   "source": [
    "dirty_kaggle_matchups.info()"
   ]
  },
  {
   "cell_type": "code",
   "execution_count": 27,
   "metadata": {},
   "outputs": [],
   "source": [
    "clean_kaggle_matchups = dirty_kaggle_matchups.copy() # Saving it after the changes."
   ]
  },
  {
   "cell_type": "markdown",
   "metadata": {},
   "source": [
    "By updating the data types to the appropriate, the dataset is cleaner and easier to work with."
   ]
  },
  {
   "cell_type": "markdown",
   "metadata": {
    "id": "o51Bt8kwyTzk"
   },
   "source": [
    "### Tidiness Issue 2: Missing header row."
   ]
  },
  {
   "cell_type": "code",
   "execution_count": 28,
   "metadata": {
    "id": "7zW8O5yx4Y9O"
   },
   "outputs": [],
   "source": [
    "# Defining the new header and the first row data\n",
    "new_header = ['Number', 'Name', 'Type', 'Total', 'HP', 'Attack', 'Defense', 'Sp. Atk', 'Sp. Def', 'Speed']\n",
    "first_row = ['0001', 'Bulbasaur', 'Grass, Poison', '318', '45', '49', '49.1', '65', '65.1', '45.1']\n",
    "#Saving the first row in a new dataframe.\n",
    "clean_scraped_pokemons = pd.DataFrame([first_row])\n",
    "# Setting the header to the right one, and changing the old header in the dirty df so that we can concat it later.\n",
    "clean_scraped_pokemons.columns = new_header\n",
    "dirty_scraped_pokemons.columns = new_header\n",
    "# Concatenating the clean and dirty dataframes so all the register are inserted in the new one. \n",
    "clean_scraped_pokemons = pd.concat([clean_scraped_pokemons, dirty_scraped_pokemons], ignore_index=True)"
   ]
  },
  {
   "cell_type": "code",
   "execution_count": 29,
   "metadata": {},
   "outputs": [
    {
     "data": {
      "text/html": [
       "<div>\n",
       "<style scoped>\n",
       "    .dataframe tbody tr th:only-of-type {\n",
       "        vertical-align: middle;\n",
       "    }\n",
       "\n",
       "    .dataframe tbody tr th {\n",
       "        vertical-align: top;\n",
       "    }\n",
       "\n",
       "    .dataframe thead th {\n",
       "        text-align: right;\n",
       "    }\n",
       "</style>\n",
       "<table border=\"1\" class=\"dataframe\">\n",
       "  <thead>\n",
       "    <tr style=\"text-align: right;\">\n",
       "      <th></th>\n",
       "      <th>Number</th>\n",
       "      <th>Name</th>\n",
       "      <th>Type</th>\n",
       "      <th>Total</th>\n",
       "      <th>HP</th>\n",
       "      <th>Attack</th>\n",
       "      <th>Defense</th>\n",
       "      <th>Sp. Atk</th>\n",
       "      <th>Sp. Def</th>\n",
       "      <th>Speed</th>\n",
       "    </tr>\n",
       "  </thead>\n",
       "  <tbody>\n",
       "    <tr>\n",
       "      <th>795</th>\n",
       "      <td>661</td>\n",
       "      <td>Fletchling</td>\n",
       "      <td>Normal, Flying</td>\n",
       "      <td>278</td>\n",
       "      <td>45</td>\n",
       "      <td>50</td>\n",
       "      <td>43</td>\n",
       "      <td>40</td>\n",
       "      <td>38</td>\n",
       "      <td>62</td>\n",
       "    </tr>\n",
       "    <tr>\n",
       "      <th>749</th>\n",
       "      <td>624</td>\n",
       "      <td>Pawniard</td>\n",
       "      <td>Dark, Steel</td>\n",
       "      <td>340</td>\n",
       "      <td>45</td>\n",
       "      <td>85</td>\n",
       "      <td>70</td>\n",
       "      <td>40</td>\n",
       "      <td>40</td>\n",
       "      <td>60</td>\n",
       "    </tr>\n",
       "    <tr>\n",
       "      <th>608</th>\n",
       "      <td>496</td>\n",
       "      <td>Servine</td>\n",
       "      <td>Grass</td>\n",
       "      <td>413</td>\n",
       "      <td>60</td>\n",
       "      <td>60</td>\n",
       "      <td>75</td>\n",
       "      <td>60</td>\n",
       "      <td>75</td>\n",
       "      <td>83</td>\n",
       "    </tr>\n",
       "    <tr>\n",
       "      <th>895</th>\n",
       "      <td>742</td>\n",
       "      <td>Cutiefly</td>\n",
       "      <td>Bug, Fairy</td>\n",
       "      <td>304</td>\n",
       "      <td>40</td>\n",
       "      <td>45</td>\n",
       "      <td>40</td>\n",
       "      <td>55</td>\n",
       "      <td>40</td>\n",
       "      <td>84</td>\n",
       "    </tr>\n",
       "  </tbody>\n",
       "</table>\n",
       "</div>"
      ],
      "text/plain": [
       "    Number        Name            Type Total  HP Attack Defense Sp. Atk  \\\n",
       "795    661  Fletchling  Normal, Flying   278  45     50      43      40   \n",
       "749    624    Pawniard     Dark, Steel   340  45     85      70      40   \n",
       "608    496     Servine           Grass   413  60     60      75      60   \n",
       "895    742    Cutiefly      Bug, Fairy   304  40     45      40      55   \n",
       "\n",
       "    Sp. Def Speed  \n",
       "795      38    62  \n",
       "749      40    60  \n",
       "608      75    83  \n",
       "895      40    84  "
      ]
     },
     "execution_count": 29,
     "metadata": {},
     "output_type": "execute_result"
    }
   ],
   "source": [
    "# Checking if it is alright now.\n",
    "clean_scraped_pokemons.sample(4)"
   ]
  },
  {
   "cell_type": "code",
   "execution_count": 30,
   "metadata": {},
   "outputs": [
    {
     "name": "stdout",
     "output_type": "stream",
     "text": [
      "Index(['Number', 'Name', 'Type', 'Total', 'HP', 'Attack', 'Defense', 'Sp. Atk',\n",
      "       'Sp. Def', 'Speed'],\n",
      "      dtype='object')\n"
     ]
    }
   ],
   "source": [
    "print(clean_scraped_pokemons.columns)"
   ]
  },
  {
   "cell_type": "code",
   "execution_count": 31,
   "metadata": {
    "scrolled": false
   },
   "outputs": [
    {
     "data": {
      "text/plain": [
       "Number     object\n",
       "Name       object\n",
       "Type       object\n",
       "Total      object\n",
       "HP         object\n",
       "Attack     object\n",
       "Defense    object\n",
       "Sp. Atk    object\n",
       "Sp. Def    object\n",
       "Speed      object\n",
       "dtype: object"
      ]
     },
     "execution_count": 31,
     "metadata": {},
     "output_type": "execute_result"
    }
   ],
   "source": [
    "clean_scraped_pokemons.dtypes"
   ]
  },
  {
   "cell_type": "markdown",
   "metadata": {},
   "source": [
    "The rest of this problem will be addressed after tidiness issue no. 1."
   ]
  },
  {
   "cell_type": "markdown",
   "metadata": {
    "id": "bIUrrfSNyOPR"
   },
   "source": [
    "### **Tidiness Issue 1: Two variables in a single cell.**"
   ]
  },
  {
   "cell_type": "markdown",
   "metadata": {},
   "source": [
    "#### OBSERVATION: I addressed Tidiness Issue 2 first, allowing me to properly fix the rows that have more than one \"type\" occupying the same column now."
   ]
  },
  {
   "cell_type": "code",
   "execution_count": 32,
   "metadata": {
    "id": "fib0zAm333bn"
   },
   "outputs": [],
   "source": [
    "# Splitting the strings stored inside the \"Type\" column and putting them in separate columns.\n",
    "clean_scraped_pokemons[['Primary Type', 'Secondary Type']] = clean_scraped_pokemons['Type'].str.split(', ', n=1, expand=True)"
   ]
  },
  {
   "cell_type": "code",
   "execution_count": 33,
   "metadata": {},
   "outputs": [],
   "source": [
    "# Now I just need to remove the original Type column.\n",
    "clean_scraped_pokemons = clean_scraped_pokemons.drop(['Type'], axis=1)"
   ]
  },
  {
   "cell_type": "code",
   "execution_count": 34,
   "metadata": {},
   "outputs": [],
   "source": [
    "# And for the Pokemons that don't have a secondary type, I'll replace all the none\n",
    "#values with \"NA\"\n",
    "clean_scraped_pokemons.fillna(\"NA\",inplace=True)"
   ]
  },
  {
   "cell_type": "code",
   "execution_count": 35,
   "metadata": {
    "id": "yhrnUGY_Nk8B"
   },
   "outputs": [
    {
     "data": {
      "text/html": [
       "<div>\n",
       "<style scoped>\n",
       "    .dataframe tbody tr th:only-of-type {\n",
       "        vertical-align: middle;\n",
       "    }\n",
       "\n",
       "    .dataframe tbody tr th {\n",
       "        vertical-align: top;\n",
       "    }\n",
       "\n",
       "    .dataframe thead th {\n",
       "        text-align: right;\n",
       "    }\n",
       "</style>\n",
       "<table border=\"1\" class=\"dataframe\">\n",
       "  <thead>\n",
       "    <tr style=\"text-align: right;\">\n",
       "      <th></th>\n",
       "      <th>Number</th>\n",
       "      <th>Name</th>\n",
       "      <th>Total</th>\n",
       "      <th>HP</th>\n",
       "      <th>Attack</th>\n",
       "      <th>Defense</th>\n",
       "      <th>Sp. Atk</th>\n",
       "      <th>Sp. Def</th>\n",
       "      <th>Speed</th>\n",
       "      <th>Primary Type</th>\n",
       "      <th>Secondary Type</th>\n",
       "    </tr>\n",
       "  </thead>\n",
       "  <tbody>\n",
       "    <tr>\n",
       "      <th>501</th>\n",
       "      <td>407</td>\n",
       "      <td>Roserade</td>\n",
       "      <td>515</td>\n",
       "      <td>60</td>\n",
       "      <td>70</td>\n",
       "      <td>65</td>\n",
       "      <td>125</td>\n",
       "      <td>105</td>\n",
       "      <td>90</td>\n",
       "      <td>Grass</td>\n",
       "      <td>Poison</td>\n",
       "    </tr>\n",
       "    <tr>\n",
       "      <th>166</th>\n",
       "      <td>126</td>\n",
       "      <td>Magmar</td>\n",
       "      <td>495</td>\n",
       "      <td>65</td>\n",
       "      <td>95</td>\n",
       "      <td>57</td>\n",
       "      <td>100</td>\n",
       "      <td>85</td>\n",
       "      <td>93</td>\n",
       "      <td>Fire</td>\n",
       "      <td>NA</td>\n",
       "    </tr>\n",
       "    <tr>\n",
       "      <th>358</th>\n",
       "      <td>288</td>\n",
       "      <td>Vigoroth</td>\n",
       "      <td>440</td>\n",
       "      <td>80</td>\n",
       "      <td>80</td>\n",
       "      <td>80</td>\n",
       "      <td>55</td>\n",
       "      <td>55</td>\n",
       "      <td>90</td>\n",
       "      <td>Normal</td>\n",
       "      <td>NA</td>\n",
       "    </tr>\n",
       "    <tr>\n",
       "      <th>1184</th>\n",
       "      <td>1000</td>\n",
       "      <td>Gholdengo</td>\n",
       "      <td>550</td>\n",
       "      <td>87</td>\n",
       "      <td>60</td>\n",
       "      <td>95</td>\n",
       "      <td>133</td>\n",
       "      <td>91</td>\n",
       "      <td>84</td>\n",
       "      <td>Steel</td>\n",
       "      <td>Ghost</td>\n",
       "    </tr>\n",
       "    <tr>\n",
       "      <th>518</th>\n",
       "      <td>420</td>\n",
       "      <td>Cherubi</td>\n",
       "      <td>275</td>\n",
       "      <td>45</td>\n",
       "      <td>35</td>\n",
       "      <td>45</td>\n",
       "      <td>62</td>\n",
       "      <td>53</td>\n",
       "      <td>35</td>\n",
       "      <td>Grass</td>\n",
       "      <td>NA</td>\n",
       "    </tr>\n",
       "  </tbody>\n",
       "</table>\n",
       "</div>"
      ],
      "text/plain": [
       "     Number       Name Total  HP Attack Defense Sp. Atk Sp. Def Speed  \\\n",
       "501     407   Roserade   515  60     70      65     125     105    90   \n",
       "166     126     Magmar   495  65     95      57     100      85    93   \n",
       "358     288   Vigoroth   440  80     80      80      55      55    90   \n",
       "1184   1000  Gholdengo   550  87     60      95     133      91    84   \n",
       "518     420    Cherubi   275  45     35      45      62      53    35   \n",
       "\n",
       "     Primary Type Secondary Type  \n",
       "501         Grass         Poison  \n",
       "166          Fire             NA  \n",
       "358        Normal             NA  \n",
       "1184        Steel          Ghost  \n",
       "518         Grass             NA  "
      ]
     },
     "execution_count": 35,
     "metadata": {},
     "output_type": "execute_result"
    }
   ],
   "source": [
    "clean_scraped_pokemons.sample(5, random_state=4)"
   ]
  },
  {
   "cell_type": "markdown",
   "metadata": {},
   "source": [
    "One of the things Hadley Wickham says in  his Article \"Tidy Data\" is that \"Each variable forms a column\". When the header is values, not variables, it is a serious issue. By fixing this we can now understand all of the columns, and perform analysis on the gathered data."
   ]
  },
  {
   "cell_type": "markdown",
   "metadata": {},
   "source": [
    "#### ! The next step is a part of  Tidiness Issue no. 2 cleaning."
   ]
  },
  {
   "cell_type": "code",
   "execution_count": 36,
   "metadata": {},
   "outputs": [],
   "source": [
    "# Now let's fix the types...\n",
    "\n",
    "# Converting each column to numeric type, some of the values arent integers so I'll keep them as floats.\n",
    "for coluna in clean_scraped_pokemons.columns[2:-2]:\n",
    "    clean_scraped_pokemons[coluna] = clean_scraped_pokemons[coluna].astype(float)\n",
    "# And the Number.\n",
    "clean_scraped_pokemons['Number'] = clean_scraped_pokemons['Number'].astype(int)\n"
   ]
  },
  {
   "cell_type": "code",
   "execution_count": 37,
   "metadata": {},
   "outputs": [
    {
     "data": {
      "text/plain": [
       "Number              int64\n",
       "Name               object\n",
       "Total             float64\n",
       "HP                float64\n",
       "Attack            float64\n",
       "Defense           float64\n",
       "Sp. Atk           float64\n",
       "Sp. Def           float64\n",
       "Speed             float64\n",
       "Primary Type       object\n",
       "Secondary Type     object\n",
       "dtype: object"
      ]
     },
     "execution_count": 37,
     "metadata": {},
     "output_type": "execute_result"
    }
   ],
   "source": [
    "clean_scraped_pokemons.dtypes"
   ]
  },
  {
   "cell_type": "markdown",
   "metadata": {},
   "source": [
    "Tidiness Issuel no.2 justification: \n",
    "Doing this I can now ensure that the dataframe has the correct names for the columns (and correct types as well), making it easier to combine the datasets!"
   ]
  },
  {
   "cell_type": "markdown",
   "metadata": {},
   "source": [
    "### **Remove unnecessary variables and combine datasets.**\n",
    "\n",
    "Depending on the datasets, you can also peform the combination before the cleaning steps."
   ]
  },
  {
   "cell_type": "code",
   "execution_count": 38,
   "metadata": {
    "scrolled": true
   },
   "outputs": [
    {
     "name": "stdout",
     "output_type": "stream",
     "text": [
      "<class 'pandas.core.frame.DataFrame'>\n",
      "RangeIndex: 1215 entries, 0 to 1214\n",
      "Data columns (total 11 columns):\n",
      " #   Column          Non-Null Count  Dtype  \n",
      "---  ------          --------------  -----  \n",
      " 0   Number          1215 non-null   int64  \n",
      " 1   Name            1215 non-null   object \n",
      " 2   Total           1215 non-null   float64\n",
      " 3   HP              1215 non-null   float64\n",
      " 4   Attack          1215 non-null   float64\n",
      " 5   Defense         1215 non-null   float64\n",
      " 6   Sp. Atk         1215 non-null   float64\n",
      " 7   Sp. Def         1215 non-null   float64\n",
      " 8   Speed           1215 non-null   float64\n",
      " 9   Primary Type    1215 non-null   object \n",
      " 10  Secondary Type  1215 non-null   object \n",
      "dtypes: float64(7), int64(1), object(3)\n",
      "memory usage: 104.5+ KB\n"
     ]
    }
   ],
   "source": [
    "clean_scraped_pokemons.info()"
   ]
  },
  {
   "cell_type": "code",
   "execution_count": 39,
   "metadata": {
    "scrolled": true
   },
   "outputs": [
    {
     "name": "stdout",
     "output_type": "stream",
     "text": [
      "<class 'pandas.core.frame.DataFrame'>\n",
      "RangeIndex: 576 entries, 0 to 575\n",
      "Data columns (total 20 columns):\n",
      " #   Column    Non-Null Count  Dtype  \n",
      "---  ------    --------------  -----  \n",
      " 0   Name      576 non-null    object \n",
      " 1   Number    576 non-null    int64  \n",
      " 2   Normal    576 non-null    float64\n",
      " 3   Fire      576 non-null    float64\n",
      " 4   Water     576 non-null    float64\n",
      " 5   Electric  576 non-null    float64\n",
      " 6   Grass     576 non-null    float64\n",
      " 7   Ice       576 non-null    float64\n",
      " 8   Fighting  576 non-null    float64\n",
      " 9   Poison    576 non-null    float64\n",
      " 10  Ground    576 non-null    float64\n",
      " 11  Flying    576 non-null    float64\n",
      " 12  Psychic   576 non-null    float64\n",
      " 13  Bug       576 non-null    float64\n",
      " 14  Rock      576 non-null    float64\n",
      " 15  Ghost     576 non-null    float64\n",
      " 16  Dragon    576 non-null    float64\n",
      " 17  Dark      576 non-null    float64\n",
      " 18  Steel     576 non-null    float64\n",
      " 19  Fairy     576 non-null    float64\n",
      "dtypes: float64(18), int64(1), object(1)\n",
      "memory usage: 90.1+ KB\n"
     ]
    }
   ],
   "source": [
    "#Since they both have the number id I'll join them together using it.\n",
    "clean_kaggle_matchups.info()"
   ]
  },
  {
   "cell_type": "code",
   "execution_count": 40,
   "metadata": {},
   "outputs": [],
   "source": [
    "combined_df = pd.merge(clean_scraped_pokemons, clean_kaggle_matchups, on=\"Name\", how=\"inner\")"
   ]
  },
  {
   "cell_type": "code",
   "execution_count": 41,
   "metadata": {},
   "outputs": [
    {
     "data": {
      "text/html": [
       "<div>\n",
       "<style scoped>\n",
       "    .dataframe tbody tr th:only-of-type {\n",
       "        vertical-align: middle;\n",
       "    }\n",
       "\n",
       "    .dataframe tbody tr th {\n",
       "        vertical-align: top;\n",
       "    }\n",
       "\n",
       "    .dataframe thead th {\n",
       "        text-align: right;\n",
       "    }\n",
       "</style>\n",
       "<table border=\"1\" class=\"dataframe\">\n",
       "  <thead>\n",
       "    <tr style=\"text-align: right;\">\n",
       "      <th></th>\n",
       "      <th>Number_x</th>\n",
       "      <th>Name</th>\n",
       "      <th>Total</th>\n",
       "      <th>HP</th>\n",
       "      <th>Attack</th>\n",
       "      <th>Defense</th>\n",
       "      <th>Sp. Atk</th>\n",
       "      <th>Sp. Def</th>\n",
       "      <th>Speed</th>\n",
       "      <th>Primary Type</th>\n",
       "      <th>...</th>\n",
       "      <th>Ground</th>\n",
       "      <th>Flying</th>\n",
       "      <th>Psychic</th>\n",
       "      <th>Bug</th>\n",
       "      <th>Rock</th>\n",
       "      <th>Ghost</th>\n",
       "      <th>Dragon</th>\n",
       "      <th>Dark</th>\n",
       "      <th>Steel</th>\n",
       "      <th>Fairy</th>\n",
       "    </tr>\n",
       "  </thead>\n",
       "  <tbody>\n",
       "    <tr>\n",
       "      <th>374</th>\n",
       "      <td>692</td>\n",
       "      <td>Clauncher</td>\n",
       "      <td>330.0</td>\n",
       "      <td>50.0</td>\n",
       "      <td>53.0</td>\n",
       "      <td>62.0</td>\n",
       "      <td>58.0</td>\n",
       "      <td>63.0</td>\n",
       "      <td>44.0</td>\n",
       "      <td>Water</td>\n",
       "      <td>...</td>\n",
       "      <td>1.0</td>\n",
       "      <td>1.0</td>\n",
       "      <td>1.0</td>\n",
       "      <td>1.0</td>\n",
       "      <td>1.0</td>\n",
       "      <td>1.0</td>\n",
       "      <td>1.0</td>\n",
       "      <td>1.0</td>\n",
       "      <td>0.5</td>\n",
       "      <td>1.0</td>\n",
       "    </tr>\n",
       "    <tr>\n",
       "      <th>280</th>\n",
       "      <td>557</td>\n",
       "      <td>Dwebble</td>\n",
       "      <td>325.0</td>\n",
       "      <td>50.0</td>\n",
       "      <td>65.0</td>\n",
       "      <td>85.0</td>\n",
       "      <td>35.0</td>\n",
       "      <td>35.0</td>\n",
       "      <td>55.0</td>\n",
       "      <td>Bug</td>\n",
       "      <td>...</td>\n",
       "      <td>1.0</td>\n",
       "      <td>1.0</td>\n",
       "      <td>1.0</td>\n",
       "      <td>1.0</td>\n",
       "      <td>2.0</td>\n",
       "      <td>1.0</td>\n",
       "      <td>1.0</td>\n",
       "      <td>1.0</td>\n",
       "      <td>2.0</td>\n",
       "      <td>1.0</td>\n",
       "    </tr>\n",
       "    <tr>\n",
       "      <th>148</th>\n",
       "      <td>275</td>\n",
       "      <td>Shiftry</td>\n",
       "      <td>480.0</td>\n",
       "      <td>90.0</td>\n",
       "      <td>100.0</td>\n",
       "      <td>60.0</td>\n",
       "      <td>90.0</td>\n",
       "      <td>60.0</td>\n",
       "      <td>80.0</td>\n",
       "      <td>Grass</td>\n",
       "      <td>...</td>\n",
       "      <td>0.5</td>\n",
       "      <td>2.0</td>\n",
       "      <td>0.0</td>\n",
       "      <td>4.0</td>\n",
       "      <td>1.0</td>\n",
       "      <td>0.5</td>\n",
       "      <td>1.0</td>\n",
       "      <td>0.5</td>\n",
       "      <td>1.0</td>\n",
       "      <td>2.0</td>\n",
       "    </tr>\n",
       "  </tbody>\n",
       "</table>\n",
       "<p>3 rows × 30 columns</p>\n",
       "</div>"
      ],
      "text/plain": [
       "     Number_x       Name  Total    HP  Attack  Defense  Sp. Atk  Sp. Def  \\\n",
       "374       692  Clauncher  330.0  50.0    53.0     62.0     58.0     63.0   \n",
       "280       557    Dwebble  325.0  50.0    65.0     85.0     35.0     35.0   \n",
       "148       275    Shiftry  480.0  90.0   100.0     60.0     90.0     60.0   \n",
       "\n",
       "     Speed Primary Type  ... Ground  Flying  Psychic  Bug  Rock  Ghost  \\\n",
       "374   44.0        Water  ...    1.0     1.0      1.0  1.0   1.0    1.0   \n",
       "280   55.0          Bug  ...    1.0     1.0      1.0  1.0   2.0    1.0   \n",
       "148   80.0        Grass  ...    0.5     2.0      0.0  4.0   1.0    0.5   \n",
       "\n",
       "     Dragon  Dark  Steel  Fairy  \n",
       "374     1.0   1.0    0.5    1.0  \n",
       "280     1.0   1.0    2.0    1.0  \n",
       "148     1.0   0.5    1.0    2.0  \n",
       "\n",
       "[3 rows x 30 columns]"
      ]
     },
     "execution_count": 41,
     "metadata": {},
     "output_type": "execute_result"
    }
   ],
   "source": [
    "combined_df.sample(3)"
   ]
  },
  {
   "cell_type": "code",
   "execution_count": 42,
   "metadata": {},
   "outputs": [],
   "source": [
    "# Removing columns that I will not use.\n",
    "columns_to_drop = ['Number_y', 'Number_x', 'Defense', 'Sp. Atk', 'Sp. Def', 'Speed', 'HP']\n",
    "combined_df = combined_df.drop(columns=columns_to_drop)"
   ]
  },
  {
   "cell_type": "code",
   "execution_count": 43,
   "metadata": {},
   "outputs": [
    {
     "data": {
      "text/html": [
       "<div>\n",
       "<style scoped>\n",
       "    .dataframe tbody tr th:only-of-type {\n",
       "        vertical-align: middle;\n",
       "    }\n",
       "\n",
       "    .dataframe tbody tr th {\n",
       "        vertical-align: top;\n",
       "    }\n",
       "\n",
       "    .dataframe thead th {\n",
       "        text-align: right;\n",
       "    }\n",
       "</style>\n",
       "<table border=\"1\" class=\"dataframe\">\n",
       "  <thead>\n",
       "    <tr style=\"text-align: right;\">\n",
       "      <th></th>\n",
       "      <th>Name</th>\n",
       "      <th>Total</th>\n",
       "      <th>Attack</th>\n",
       "      <th>Primary Type</th>\n",
       "      <th>Secondary Type</th>\n",
       "      <th>Normal</th>\n",
       "      <th>Fire</th>\n",
       "      <th>Water</th>\n",
       "      <th>Electric</th>\n",
       "      <th>Grass</th>\n",
       "      <th>...</th>\n",
       "      <th>Ground</th>\n",
       "      <th>Flying</th>\n",
       "      <th>Psychic</th>\n",
       "      <th>Bug</th>\n",
       "      <th>Rock</th>\n",
       "      <th>Ghost</th>\n",
       "      <th>Dragon</th>\n",
       "      <th>Dark</th>\n",
       "      <th>Steel</th>\n",
       "      <th>Fairy</th>\n",
       "    </tr>\n",
       "  </thead>\n",
       "  <tbody>\n",
       "    <tr>\n",
       "      <th>0</th>\n",
       "      <td>Bulbasaur</td>\n",
       "      <td>318.0</td>\n",
       "      <td>49.0</td>\n",
       "      <td>Grass</td>\n",
       "      <td>Poison</td>\n",
       "      <td>1.0</td>\n",
       "      <td>2.0</td>\n",
       "      <td>0.5</td>\n",
       "      <td>0.5</td>\n",
       "      <td>0.25</td>\n",
       "      <td>...</td>\n",
       "      <td>1.0</td>\n",
       "      <td>2.0</td>\n",
       "      <td>2.0</td>\n",
       "      <td>1.0</td>\n",
       "      <td>1.0</td>\n",
       "      <td>1.0</td>\n",
       "      <td>1.0</td>\n",
       "      <td>1.0</td>\n",
       "      <td>1.0</td>\n",
       "      <td>0.5</td>\n",
       "    </tr>\n",
       "    <tr>\n",
       "      <th>1</th>\n",
       "      <td>Ivysaur</td>\n",
       "      <td>405.0</td>\n",
       "      <td>62.0</td>\n",
       "      <td>Grass</td>\n",
       "      <td>Poison</td>\n",
       "      <td>1.0</td>\n",
       "      <td>2.0</td>\n",
       "      <td>0.5</td>\n",
       "      <td>0.5</td>\n",
       "      <td>0.25</td>\n",
       "      <td>...</td>\n",
       "      <td>1.0</td>\n",
       "      <td>2.0</td>\n",
       "      <td>2.0</td>\n",
       "      <td>1.0</td>\n",
       "      <td>1.0</td>\n",
       "      <td>1.0</td>\n",
       "      <td>1.0</td>\n",
       "      <td>1.0</td>\n",
       "      <td>1.0</td>\n",
       "      <td>0.5</td>\n",
       "    </tr>\n",
       "    <tr>\n",
       "      <th>2</th>\n",
       "      <td>Venusaur</td>\n",
       "      <td>525.0</td>\n",
       "      <td>82.0</td>\n",
       "      <td>Grass</td>\n",
       "      <td>Poison</td>\n",
       "      <td>1.0</td>\n",
       "      <td>2.0</td>\n",
       "      <td>0.5</td>\n",
       "      <td>0.5</td>\n",
       "      <td>0.25</td>\n",
       "      <td>...</td>\n",
       "      <td>1.0</td>\n",
       "      <td>2.0</td>\n",
       "      <td>2.0</td>\n",
       "      <td>1.0</td>\n",
       "      <td>1.0</td>\n",
       "      <td>1.0</td>\n",
       "      <td>1.0</td>\n",
       "      <td>1.0</td>\n",
       "      <td>1.0</td>\n",
       "      <td>0.5</td>\n",
       "    </tr>\n",
       "    <tr>\n",
       "      <th>3</th>\n",
       "      <td>Charmander</td>\n",
       "      <td>309.0</td>\n",
       "      <td>52.0</td>\n",
       "      <td>Fire</td>\n",
       "      <td>NA</td>\n",
       "      <td>1.0</td>\n",
       "      <td>0.5</td>\n",
       "      <td>2.0</td>\n",
       "      <td>1.0</td>\n",
       "      <td>0.50</td>\n",
       "      <td>...</td>\n",
       "      <td>2.0</td>\n",
       "      <td>1.0</td>\n",
       "      <td>1.0</td>\n",
       "      <td>0.5</td>\n",
       "      <td>2.0</td>\n",
       "      <td>1.0</td>\n",
       "      <td>1.0</td>\n",
       "      <td>1.0</td>\n",
       "      <td>0.5</td>\n",
       "      <td>0.5</td>\n",
       "    </tr>\n",
       "    <tr>\n",
       "      <th>4</th>\n",
       "      <td>Charmeleon</td>\n",
       "      <td>405.0</td>\n",
       "      <td>64.0</td>\n",
       "      <td>Fire</td>\n",
       "      <td>NA</td>\n",
       "      <td>1.0</td>\n",
       "      <td>0.5</td>\n",
       "      <td>2.0</td>\n",
       "      <td>1.0</td>\n",
       "      <td>0.50</td>\n",
       "      <td>...</td>\n",
       "      <td>2.0</td>\n",
       "      <td>1.0</td>\n",
       "      <td>1.0</td>\n",
       "      <td>0.5</td>\n",
       "      <td>2.0</td>\n",
       "      <td>1.0</td>\n",
       "      <td>1.0</td>\n",
       "      <td>1.0</td>\n",
       "      <td>0.5</td>\n",
       "      <td>0.5</td>\n",
       "    </tr>\n",
       "  </tbody>\n",
       "</table>\n",
       "<p>5 rows × 23 columns</p>\n",
       "</div>"
      ],
      "text/plain": [
       "         Name  Total  Attack Primary Type Secondary Type  Normal  Fire  Water  \\\n",
       "0   Bulbasaur  318.0    49.0        Grass         Poison     1.0   2.0    0.5   \n",
       "1     Ivysaur  405.0    62.0        Grass         Poison     1.0   2.0    0.5   \n",
       "2    Venusaur  525.0    82.0        Grass         Poison     1.0   2.0    0.5   \n",
       "3  Charmander  309.0    52.0         Fire             NA     1.0   0.5    2.0   \n",
       "4  Charmeleon  405.0    64.0         Fire             NA     1.0   0.5    2.0   \n",
       "\n",
       "   Electric  Grass  ...  Ground  Flying  Psychic  Bug  Rock  Ghost  Dragon  \\\n",
       "0       0.5   0.25  ...     1.0     2.0      2.0  1.0   1.0    1.0     1.0   \n",
       "1       0.5   0.25  ...     1.0     2.0      2.0  1.0   1.0    1.0     1.0   \n",
       "2       0.5   0.25  ...     1.0     2.0      2.0  1.0   1.0    1.0     1.0   \n",
       "3       1.0   0.50  ...     2.0     1.0      1.0  0.5   2.0    1.0     1.0   \n",
       "4       1.0   0.50  ...     2.0     1.0      1.0  0.5   2.0    1.0     1.0   \n",
       "\n",
       "   Dark  Steel  Fairy  \n",
       "0   1.0    1.0    0.5  \n",
       "1   1.0    1.0    0.5  \n",
       "2   1.0    1.0    0.5  \n",
       "3   1.0    0.5    0.5  \n",
       "4   1.0    0.5    0.5  \n",
       "\n",
       "[5 rows x 23 columns]"
      ]
     },
     "execution_count": 43,
     "metadata": {},
     "output_type": "execute_result"
    }
   ],
   "source": [
    "combined_df.head(5)"
   ]
  },
  {
   "cell_type": "code",
   "execution_count": 44,
   "metadata": {},
   "outputs": [
    {
     "data": {
      "text/plain": [
       "(526, 23)"
      ]
     },
     "execution_count": 44,
     "metadata": {},
     "output_type": "execute_result"
    }
   ],
   "source": [
    "# Not all Pokémon were  in the Kaggle database, \n",
    "#but that's ok. I'll do the analysis using the available data.\n",
    "combined_df.shape"
   ]
  },
  {
   "cell_type": "code",
   "execution_count": 45,
   "metadata": {},
   "outputs": [
    {
     "name": "stdout",
     "output_type": "stream",
     "text": [
      "<class 'pandas.core.frame.DataFrame'>\n",
      "RangeIndex: 526 entries, 0 to 525\n",
      "Data columns (total 23 columns):\n",
      " #   Column          Non-Null Count  Dtype  \n",
      "---  ------          --------------  -----  \n",
      " 0   Name            526 non-null    object \n",
      " 1   Total           526 non-null    float64\n",
      " 2   Attack          526 non-null    float64\n",
      " 3   Primary Type    526 non-null    object \n",
      " 4   Secondary Type  526 non-null    object \n",
      " 5   Normal          526 non-null    float64\n",
      " 6   Fire            526 non-null    float64\n",
      " 7   Water           526 non-null    float64\n",
      " 8   Electric        526 non-null    float64\n",
      " 9   Grass           526 non-null    float64\n",
      " 10  Ice             526 non-null    float64\n",
      " 11  Fighting        526 non-null    float64\n",
      " 12  Poison          526 non-null    float64\n",
      " 13  Ground          526 non-null    float64\n",
      " 14  Flying          526 non-null    float64\n",
      " 15  Psychic         526 non-null    float64\n",
      " 16  Bug             526 non-null    float64\n",
      " 17  Rock            526 non-null    float64\n",
      " 18  Ghost           526 non-null    float64\n",
      " 19  Dragon          526 non-null    float64\n",
      " 20  Dark            526 non-null    float64\n",
      " 21  Steel           526 non-null    float64\n",
      " 22  Fairy           526 non-null    float64\n",
      "dtypes: float64(20), object(3)\n",
      "memory usage: 94.6+ KB\n"
     ]
    }
   ],
   "source": [
    "combined_df.info()"
   ]
  },
  {
   "cell_type": "markdown",
   "metadata": {
    "id": "F42urHuzttjF"
   },
   "source": [
    "## 4. Update your data store\n",
    "Update your local database/data store with the cleaned data, following best practices for storing your cleaned data:\n",
    "\n",
    "- Must maintain different instances / versions of data (raw and cleaned data)\n",
    "- Must name the dataset files informatively\n",
    "- Ensure both the raw and cleaned data is saved to your database/data store"
   ]
  },
  {
   "cell_type": "code",
   "execution_count": 46,
   "metadata": {
    "id": "V3uay7EJUV_L"
   },
   "outputs": [],
   "source": [
    "combined_df.to_csv('clean_combined_df.csv', index=False)"
   ]
  },
  {
   "cell_type": "markdown",
   "metadata": {
    "id": "cGy_yddGtzhM"
   },
   "source": [
    "## 5. Answer the research question\n",
    "\n",
    "### **5.1:** Define and answer the research question "
   ]
  },
  {
   "cell_type": "markdown",
   "metadata": {
    "id": "gjedE4s4ZkEd"
   },
   "source": [
    ">Which Pokémon types have the highest average attack against all other types?"
   ]
  },
  {
   "cell_type": "code",
   "execution_count": 47,
   "metadata": {},
   "outputs": [],
   "source": [
    "import matplotlib.pyplot as plt"
   ]
  },
  {
   "cell_type": "code",
   "execution_count": 48,
   "metadata": {
    "id": "Lkw3rW9kZmOm"
   },
   "outputs": [],
   "source": [
    "# To find the strongest Pokémon types, I will calculate the mean total stats \n",
    "# (sum of HP, Attack, Speed, etc.) for each primary type.\n",
    "subset_type_mean = combined_df.groupby('Primary Type')['Total'].mean().sort_values(ascending=False)"
   ]
  },
  {
   "cell_type": "code",
   "execution_count": 49,
   "metadata": {},
   "outputs": [
    {
     "data": {
      "image/png": "[encoded data removed]",
      "text/plain": [
       "<Figure size 1200x800 with 1 Axes>"
      ]
     },
     "metadata": {},
     "output_type": "display_data"
    }
   ],
   "source": [
    "# Plotting the top 5 strongest types.\n",
    "plt.figure(figsize=(12, 8))\n",
    "subset_type_mean.head(5).plot(kind='bar', color='pink', alpha=0.7, edgecolor='hotpink', linewidth=2, linestyle='-')\n",
    "plt.title('Mean Total Stats by Pokémon Type')\n",
    "plt.xlabel('Pokémon Type')\n",
    "plt.ylabel('Mean Total Stats')\n",
    "plt.xticks(rotation=45, ha='right')\n",
    "plt.grid(axis='y', linestyle='--', alpha=0.5)\n",
    "plt.show()"
   ]
  },
  {
   "cell_type": "markdown",
   "metadata": {},
   "source": [
    "Out of all the pokemon types the ones with highest average total atk damage are \"Dragon\", \"Fire\" and \"Steel\". The strongest one must be from one of these types. "
   ]
  },
  {
   "cell_type": "code",
   "execution_count": 50,
   "metadata": {
    "id": "6fdK_8ZGZm9R"
   },
   "outputs": [
    {
     "data": {
      "text/html": [
       "<div>\n",
       "<style scoped>\n",
       "    .dataframe tbody tr th:only-of-type {\n",
       "        vertical-align: middle;\n",
       "    }\n",
       "\n",
       "    .dataframe tbody tr th {\n",
       "        vertical-align: top;\n",
       "    }\n",
       "\n",
       "    .dataframe thead th {\n",
       "        text-align: right;\n",
       "    }\n",
       "</style>\n",
       "<table border=\"1\" class=\"dataframe\">\n",
       "  <thead>\n",
       "    <tr style=\"text-align: right;\">\n",
       "      <th></th>\n",
       "      <th>Name</th>\n",
       "      <th>Total</th>\n",
       "      <th>Attack</th>\n",
       "      <th>Primary Type</th>\n",
       "      <th>Secondary Type</th>\n",
       "      <th>Normal</th>\n",
       "      <th>Fire</th>\n",
       "      <th>Water</th>\n",
       "      <th>Electric</th>\n",
       "      <th>Grass</th>\n",
       "      <th>...</th>\n",
       "      <th>Ground</th>\n",
       "      <th>Flying</th>\n",
       "      <th>Psychic</th>\n",
       "      <th>Bug</th>\n",
       "      <th>Rock</th>\n",
       "      <th>Ghost</th>\n",
       "      <th>Dragon</th>\n",
       "      <th>Dark</th>\n",
       "      <th>Steel</th>\n",
       "      <th>Fairy</th>\n",
       "    </tr>\n",
       "  </thead>\n",
       "  <tbody>\n",
       "    <tr>\n",
       "      <th>0</th>\n",
       "      <td>Bulbasaur</td>\n",
       "      <td>318.0</td>\n",
       "      <td>49.0</td>\n",
       "      <td>Grass</td>\n",
       "      <td>Poison</td>\n",
       "      <td>1.0</td>\n",
       "      <td>2.0</td>\n",
       "      <td>0.5</td>\n",
       "      <td>0.5</td>\n",
       "      <td>0.25</td>\n",
       "      <td>...</td>\n",
       "      <td>1.0</td>\n",
       "      <td>2.0</td>\n",
       "      <td>2.0</td>\n",
       "      <td>1.0</td>\n",
       "      <td>1.0</td>\n",
       "      <td>1.0</td>\n",
       "      <td>1.0</td>\n",
       "      <td>1.0</td>\n",
       "      <td>1.0</td>\n",
       "      <td>0.5</td>\n",
       "    </tr>\n",
       "    <tr>\n",
       "      <th>1</th>\n",
       "      <td>Ivysaur</td>\n",
       "      <td>405.0</td>\n",
       "      <td>62.0</td>\n",
       "      <td>Grass</td>\n",
       "      <td>Poison</td>\n",
       "      <td>1.0</td>\n",
       "      <td>2.0</td>\n",
       "      <td>0.5</td>\n",
       "      <td>0.5</td>\n",
       "      <td>0.25</td>\n",
       "      <td>...</td>\n",
       "      <td>1.0</td>\n",
       "      <td>2.0</td>\n",
       "      <td>2.0</td>\n",
       "      <td>1.0</td>\n",
       "      <td>1.0</td>\n",
       "      <td>1.0</td>\n",
       "      <td>1.0</td>\n",
       "      <td>1.0</td>\n",
       "      <td>1.0</td>\n",
       "      <td>0.5</td>\n",
       "    </tr>\n",
       "    <tr>\n",
       "      <th>2</th>\n",
       "      <td>Venusaur</td>\n",
       "      <td>525.0</td>\n",
       "      <td>82.0</td>\n",
       "      <td>Grass</td>\n",
       "      <td>Poison</td>\n",
       "      <td>1.0</td>\n",
       "      <td>2.0</td>\n",
       "      <td>0.5</td>\n",
       "      <td>0.5</td>\n",
       "      <td>0.25</td>\n",
       "      <td>...</td>\n",
       "      <td>1.0</td>\n",
       "      <td>2.0</td>\n",
       "      <td>2.0</td>\n",
       "      <td>1.0</td>\n",
       "      <td>1.0</td>\n",
       "      <td>1.0</td>\n",
       "      <td>1.0</td>\n",
       "      <td>1.0</td>\n",
       "      <td>1.0</td>\n",
       "      <td>0.5</td>\n",
       "    </tr>\n",
       "    <tr>\n",
       "      <th>3</th>\n",
       "      <td>Charmander</td>\n",
       "      <td>309.0</td>\n",
       "      <td>52.0</td>\n",
       "      <td>Fire</td>\n",
       "      <td>NA</td>\n",
       "      <td>1.0</td>\n",
       "      <td>0.5</td>\n",
       "      <td>2.0</td>\n",
       "      <td>1.0</td>\n",
       "      <td>0.50</td>\n",
       "      <td>...</td>\n",
       "      <td>2.0</td>\n",
       "      <td>1.0</td>\n",
       "      <td>1.0</td>\n",
       "      <td>0.5</td>\n",
       "      <td>2.0</td>\n",
       "      <td>1.0</td>\n",
       "      <td>1.0</td>\n",
       "      <td>1.0</td>\n",
       "      <td>0.5</td>\n",
       "      <td>0.5</td>\n",
       "    </tr>\n",
       "    <tr>\n",
       "      <th>4</th>\n",
       "      <td>Charmeleon</td>\n",
       "      <td>405.0</td>\n",
       "      <td>64.0</td>\n",
       "      <td>Fire</td>\n",
       "      <td>NA</td>\n",
       "      <td>1.0</td>\n",
       "      <td>0.5</td>\n",
       "      <td>2.0</td>\n",
       "      <td>1.0</td>\n",
       "      <td>0.50</td>\n",
       "      <td>...</td>\n",
       "      <td>2.0</td>\n",
       "      <td>1.0</td>\n",
       "      <td>1.0</td>\n",
       "      <td>0.5</td>\n",
       "      <td>2.0</td>\n",
       "      <td>1.0</td>\n",
       "      <td>1.0</td>\n",
       "      <td>1.0</td>\n",
       "      <td>0.5</td>\n",
       "      <td>0.5</td>\n",
       "    </tr>\n",
       "  </tbody>\n",
       "</table>\n",
       "<p>5 rows × 23 columns</p>\n",
       "</div>"
      ],
      "text/plain": [
       "         Name  Total  Attack Primary Type Secondary Type  Normal  Fire  Water  \\\n",
       "0   Bulbasaur  318.0    49.0        Grass         Poison     1.0   2.0    0.5   \n",
       "1     Ivysaur  405.0    62.0        Grass         Poison     1.0   2.0    0.5   \n",
       "2    Venusaur  525.0    82.0        Grass         Poison     1.0   2.0    0.5   \n",
       "3  Charmander  309.0    52.0         Fire             NA     1.0   0.5    2.0   \n",
       "4  Charmeleon  405.0    64.0         Fire             NA     1.0   0.5    2.0   \n",
       "\n",
       "   Electric  Grass  ...  Ground  Flying  Psychic  Bug  Rock  Ghost  Dragon  \\\n",
       "0       0.5   0.25  ...     1.0     2.0      2.0  1.0   1.0    1.0     1.0   \n",
       "1       0.5   0.25  ...     1.0     2.0      2.0  1.0   1.0    1.0     1.0   \n",
       "2       0.5   0.25  ...     1.0     2.0      2.0  1.0   1.0    1.0     1.0   \n",
       "3       1.0   0.50  ...     2.0     1.0      1.0  0.5   2.0    1.0     1.0   \n",
       "4       1.0   0.50  ...     2.0     1.0      1.0  0.5   2.0    1.0     1.0   \n",
       "\n",
       "   Dark  Steel  Fairy  \n",
       "0   1.0    1.0    0.5  \n",
       "1   1.0    1.0    0.5  \n",
       "2   1.0    1.0    0.5  \n",
       "3   1.0    0.5    0.5  \n",
       "4   1.0    0.5    0.5  \n",
       "\n",
       "[5 rows x 23 columns]"
      ]
     },
     "execution_count": 50,
     "metadata": {},
     "output_type": "execute_result"
    }
   ],
   "source": [
    "# Now I'll separate them in another dataframe so the calculus can be performed more easily.\n",
    "type_columns = [\n",
    "    'Normal', 'Fire', 'Water', 'Electric', 'Grass', 'Ice',\n",
    "    'Fighting', 'Poison', 'Ground', 'Flying', 'Psychic', \n",
    "    'Bug', 'Rock', 'Ghost', 'Dragon', 'Dark', 'Steel', 'Fairy'\n",
    "]\n",
    "\n",
    "strongest = combined_df[combined_df['Primary Type'].isin(type_columns)]\n",
    "strongest.head()"
   ]
  },
  {
   "cell_type": "code",
   "execution_count": 51,
   "metadata": {},
   "outputs": [],
   "source": [
    "# Now I'll create another dataframe to store the values that will be multiplied (Attack * type multiplier)\n",
    "attack_df = pd.DataFrame(columns=type_columns)"
   ]
  },
  {
   "cell_type": "code",
   "execution_count": 52,
   "metadata": {
    "scrolled": true
   },
   "outputs": [],
   "source": [
    "attack_df = pd.DataFrame()\n",
    "\n",
    "for idx, row in combined_df.iterrows():\n",
    "    damages = {} # Dictionary to store damage for each type\n",
    "#Calculating damage for each type using the current row's attack:\n",
    "    for types in type_columns:\n",
    "        damage = row['Attack'] * row[types]\n",
    "        damages[types] = damage\n",
    "    attack_df = pd.concat([attack_df, pd.DataFrame([damages])], ignore_index=True)"
   ]
  },
  {
   "cell_type": "code",
   "execution_count": 53,
   "metadata": {},
   "outputs": [],
   "source": [
    "#Calculating the total damage for each Pokémon by summing their attacks against different types.\n",
    "attack_df['Total Damage'] = attack_df.sum(axis=1)"
   ]
  },
  {
   "cell_type": "code",
   "execution_count": 54,
   "metadata": {},
   "outputs": [],
   "source": [
    "#Calculating the mean damage for each Pokémon by averaging their attacks against different types.\n",
    "attack_df['Mean Damage'] = attack_df.mean(axis=1)"
   ]
  },
  {
   "cell_type": "code",
   "execution_count": 55,
   "metadata": {},
   "outputs": [
    {
     "data": {
      "text/html": [
       "<div>\n",
       "<style scoped>\n",
       "    .dataframe tbody tr th:only-of-type {\n",
       "        vertical-align: middle;\n",
       "    }\n",
       "\n",
       "    .dataframe tbody tr th {\n",
       "        vertical-align: top;\n",
       "    }\n",
       "\n",
       "    .dataframe thead th {\n",
       "        text-align: right;\n",
       "    }\n",
       "</style>\n",
       "<table border=\"1\" class=\"dataframe\">\n",
       "  <thead>\n",
       "    <tr style=\"text-align: right;\">\n",
       "      <th></th>\n",
       "      <th>Normal</th>\n",
       "      <th>Fire</th>\n",
       "      <th>Water</th>\n",
       "      <th>Electric</th>\n",
       "      <th>Grass</th>\n",
       "      <th>Ice</th>\n",
       "      <th>Fighting</th>\n",
       "      <th>Poison</th>\n",
       "      <th>Ground</th>\n",
       "      <th>Flying</th>\n",
       "      <th>Psychic</th>\n",
       "      <th>Bug</th>\n",
       "      <th>Rock</th>\n",
       "      <th>Ghost</th>\n",
       "      <th>Dragon</th>\n",
       "      <th>Dark</th>\n",
       "      <th>Steel</th>\n",
       "      <th>Fairy</th>\n",
       "      <th>Total Damage</th>\n",
       "      <th>Mean Damage</th>\n",
       "    </tr>\n",
       "  </thead>\n",
       "  <tbody>\n",
       "    <tr>\n",
       "      <th>0</th>\n",
       "      <td>49.0</td>\n",
       "      <td>98.0</td>\n",
       "      <td>24.5</td>\n",
       "      <td>24.5</td>\n",
       "      <td>12.25</td>\n",
       "      <td>98.0</td>\n",
       "      <td>24.5</td>\n",
       "      <td>49.0</td>\n",
       "      <td>49.0</td>\n",
       "      <td>98.0</td>\n",
       "      <td>98.0</td>\n",
       "      <td>49.0</td>\n",
       "      <td>49.0</td>\n",
       "      <td>49.0</td>\n",
       "      <td>49.0</td>\n",
       "      <td>49.0</td>\n",
       "      <td>49.0</td>\n",
       "      <td>24.5</td>\n",
       "      <td>943.25</td>\n",
       "      <td>99.289474</td>\n",
       "    </tr>\n",
       "    <tr>\n",
       "      <th>1</th>\n",
       "      <td>62.0</td>\n",
       "      <td>124.0</td>\n",
       "      <td>31.0</td>\n",
       "      <td>31.0</td>\n",
       "      <td>15.50</td>\n",
       "      <td>124.0</td>\n",
       "      <td>31.0</td>\n",
       "      <td>62.0</td>\n",
       "      <td>62.0</td>\n",
       "      <td>124.0</td>\n",
       "      <td>124.0</td>\n",
       "      <td>62.0</td>\n",
       "      <td>62.0</td>\n",
       "      <td>62.0</td>\n",
       "      <td>62.0</td>\n",
       "      <td>62.0</td>\n",
       "      <td>62.0</td>\n",
       "      <td>31.0</td>\n",
       "      <td>1193.50</td>\n",
       "      <td>125.631579</td>\n",
       "    </tr>\n",
       "    <tr>\n",
       "      <th>2</th>\n",
       "      <td>82.0</td>\n",
       "      <td>164.0</td>\n",
       "      <td>41.0</td>\n",
       "      <td>41.0</td>\n",
       "      <td>20.50</td>\n",
       "      <td>164.0</td>\n",
       "      <td>41.0</td>\n",
       "      <td>82.0</td>\n",
       "      <td>82.0</td>\n",
       "      <td>164.0</td>\n",
       "      <td>164.0</td>\n",
       "      <td>82.0</td>\n",
       "      <td>82.0</td>\n",
       "      <td>82.0</td>\n",
       "      <td>82.0</td>\n",
       "      <td>82.0</td>\n",
       "      <td>82.0</td>\n",
       "      <td>41.0</td>\n",
       "      <td>1578.50</td>\n",
       "      <td>166.157895</td>\n",
       "    </tr>\n",
       "    <tr>\n",
       "      <th>3</th>\n",
       "      <td>52.0</td>\n",
       "      <td>26.0</td>\n",
       "      <td>104.0</td>\n",
       "      <td>52.0</td>\n",
       "      <td>26.00</td>\n",
       "      <td>26.0</td>\n",
       "      <td>52.0</td>\n",
       "      <td>52.0</td>\n",
       "      <td>104.0</td>\n",
       "      <td>52.0</td>\n",
       "      <td>52.0</td>\n",
       "      <td>26.0</td>\n",
       "      <td>104.0</td>\n",
       "      <td>52.0</td>\n",
       "      <td>52.0</td>\n",
       "      <td>52.0</td>\n",
       "      <td>26.0</td>\n",
       "      <td>26.0</td>\n",
       "      <td>936.00</td>\n",
       "      <td>98.526316</td>\n",
       "    </tr>\n",
       "    <tr>\n",
       "      <th>4</th>\n",
       "      <td>64.0</td>\n",
       "      <td>32.0</td>\n",
       "      <td>128.0</td>\n",
       "      <td>64.0</td>\n",
       "      <td>32.00</td>\n",
       "      <td>32.0</td>\n",
       "      <td>64.0</td>\n",
       "      <td>64.0</td>\n",
       "      <td>128.0</td>\n",
       "      <td>64.0</td>\n",
       "      <td>64.0</td>\n",
       "      <td>32.0</td>\n",
       "      <td>128.0</td>\n",
       "      <td>64.0</td>\n",
       "      <td>64.0</td>\n",
       "      <td>64.0</td>\n",
       "      <td>32.0</td>\n",
       "      <td>32.0</td>\n",
       "      <td>1152.00</td>\n",
       "      <td>121.263158</td>\n",
       "    </tr>\n",
       "  </tbody>\n",
       "</table>\n",
       "</div>"
      ],
      "text/plain": [
       "   Normal   Fire  Water  Electric  Grass    Ice  Fighting  Poison  Ground  \\\n",
       "0    49.0   98.0   24.5      24.5  12.25   98.0      24.5    49.0    49.0   \n",
       "1    62.0  124.0   31.0      31.0  15.50  124.0      31.0    62.0    62.0   \n",
       "2    82.0  164.0   41.0      41.0  20.50  164.0      41.0    82.0    82.0   \n",
       "3    52.0   26.0  104.0      52.0  26.00   26.0      52.0    52.0   104.0   \n",
       "4    64.0   32.0  128.0      64.0  32.00   32.0      64.0    64.0   128.0   \n",
       "\n",
       "   Flying  Psychic   Bug   Rock  Ghost  Dragon  Dark  Steel  Fairy  \\\n",
       "0    98.0     98.0  49.0   49.0   49.0    49.0  49.0   49.0   24.5   \n",
       "1   124.0    124.0  62.0   62.0   62.0    62.0  62.0   62.0   31.0   \n",
       "2   164.0    164.0  82.0   82.0   82.0    82.0  82.0   82.0   41.0   \n",
       "3    52.0     52.0  26.0  104.0   52.0    52.0  52.0   26.0   26.0   \n",
       "4    64.0     64.0  32.0  128.0   64.0    64.0  64.0   32.0   32.0   \n",
       "\n",
       "   Total Damage  Mean Damage  \n",
       "0        943.25    99.289474  \n",
       "1       1193.50   125.631579  \n",
       "2       1578.50   166.157895  \n",
       "3        936.00    98.526316  \n",
       "4       1152.00   121.263158  "
      ]
     },
     "execution_count": 55,
     "metadata": {},
     "output_type": "execute_result"
    }
   ],
   "source": [
    "attack_df.head()"
   ]
  },
  {
   "cell_type": "code",
   "execution_count": 56,
   "metadata": {},
   "outputs": [],
   "source": [
    "# Inserting name column.\n",
    "attack_df['Name'] = combined_df['Name']"
   ]
  },
  {
   "cell_type": "code",
   "execution_count": 57,
   "metadata": {},
   "outputs": [
    {
     "data": {
      "image/png": "[encoded data removed]",
      "text/plain": [
       "<Figure size 1000x600 with 1 Axes>"
      ]
     },
     "metadata": {},
     "output_type": "display_data"
    }
   ],
   "source": [
    "# Sorting the datafram so that the pokemons with highest mean damage are at the top, making it easier to plot de chart.\n",
    "sorted_attack_df = attack_df.sort_values(by='Mean Damage', ascending=False)\n",
    "\n",
    "# Selecting the 10 strongest.\n",
    "top_10 = sorted_attack_df.head(10)\n",
    "\n",
    "# Creating the bar plor.\n",
    "plt.figure(figsize=(10, 6))\n",
    "plt.bar(top_10['Name'], top_10['Mean Damage'], color='pink')\n",
    "plt.xlabel('Pokémon')\n",
    "plt.ylabel('Total Damage')\n",
    "plt.title('Top 10 Strongest Pokémon by Mean Damage')\n",
    "plt.xticks(rotation=45)\n",
    "plt.tight_layout()\n",
    "plt.show()"
   ]
  },
  {
   "cell_type": "markdown",
   "metadata": {
    "id": "K5RgvMGUZoHn"
   },
   "source": [
    "Based on the analysis of the top 10 Pokémon with the highest mean total damage against all types, I conclude that Rhyperior, Rhydon, and Tyranitar stand out as the strongest Pokémon. These findings are based on the available data."
   ]
  },
  {
   "cell_type": "markdown",
   "metadata": {
    "id": "0ezWXXZVj-TP"
   },
   "source": [
    "### **5.2:** Reflection"
   ]
  },
  {
   "cell_type": "markdown",
   "metadata": {
    "id": "XB3RBDG5kFe1"
   },
   "source": [
    "If I had more time, I'd make this project better by shifting from just a DataFrame to storing data in a relational database. I would dive deeper into matchup analysis, not just sticking to type interactions, but also looking into individual Pokémon stats. Plus, I'd definitely try to gather more data."
   ]
  }
 ],
 "metadata": {
  "colab": {
   "provenance": []
  },
  "kernelspec": {
   "display_name": "Python 3 (ipykernel)",
   "language": "python",
   "name": "python3"
  },
  "language_info": {
   "codemirror_mode": {
    "name": "ipython",
    "version": 3
   },
   "file_extension": ".py",
   "mimetype": "text/x-python",
   "name": "python",
   "nbconvert_exporter": "python",
   "pygments_lexer": "ipython3",
   "version": "3.10.11"
  }
 },
 "nbformat": 4,
 "nbformat_minor": 1
}
